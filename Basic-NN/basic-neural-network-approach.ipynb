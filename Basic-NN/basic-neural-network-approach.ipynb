{
 "cells": [
  {
   "cell_type": "code",
   "execution_count": 1,
   "id": "adba658b",
   "metadata": {
    "execution": {
     "iopub.execute_input": "2023-12-20T10:01:36.454987Z",
     "iopub.status.busy": "2023-12-20T10:01:36.454466Z",
     "iopub.status.idle": "2023-12-20T10:01:50.945706Z",
     "shell.execute_reply": "2023-12-20T10:01:50.944604Z"
    },
    "papermill": {
     "duration": 14.505073,
     "end_time": "2023-12-20T10:01:50.948129",
     "exception": false,
     "start_time": "2023-12-20T10:01:36.443056",
     "status": "completed"
    },
    "tags": []
   },
   "outputs": [],
   "source": [
    "import pandas as pd\n",
    "import seaborn as sns\n",
    "import numpy as np\n",
    "import matplotlib.pyplot as plt\n",
    "from tensorflow import keras\n",
    "import matplotlib.pyplot as plt"
   ]
  },
  {
   "cell_type": "code",
   "execution_count": 2,
   "id": "74e92b99",
   "metadata": {
    "execution": {
     "iopub.execute_input": "2023-12-20T10:01:50.970020Z",
     "iopub.status.busy": "2023-12-20T10:01:50.968880Z",
     "iopub.status.idle": "2023-12-20T10:01:51.022153Z",
     "shell.execute_reply": "2023-12-20T10:01:51.021045Z"
    },
    "papermill": {
     "duration": 0.066426,
     "end_time": "2023-12-20T10:01:51.024586",
     "exception": false,
     "start_time": "2023-12-20T10:01:50.958160",
     "status": "completed"
    },
    "tags": []
   },
   "outputs": [],
   "source": [
    "data1 = pd.read_csv('/kaggle/input/cirrhosis-patient-survival-prediction/cirrhosis.csv')\n",
    "data2 = pd.read_csv('/kaggle/input/playground-series-s3e26/train.csv')"
   ]
  },
  {
   "cell_type": "code",
   "execution_count": 3,
   "id": "8d613410",
   "metadata": {
    "execution": {
     "iopub.execute_input": "2023-12-20T10:01:51.045124Z",
     "iopub.status.busy": "2023-12-20T10:01:51.044708Z",
     "iopub.status.idle": "2023-12-20T10:01:51.052624Z",
     "shell.execute_reply": "2023-12-20T10:01:51.051628Z"
    },
    "papermill": {
     "duration": 0.020525,
     "end_time": "2023-12-20T10:01:51.054747",
     "exception": false,
     "start_time": "2023-12-20T10:01:51.034222",
     "status": "completed"
    },
    "tags": []
   },
   "outputs": [
    {
     "data": {
      "text/plain": [
       "['ID',\n",
       " 'N_Days',\n",
       " 'Status',\n",
       " 'Drug',\n",
       " 'Age',\n",
       " 'Sex',\n",
       " 'Ascites',\n",
       " 'Hepatomegaly',\n",
       " 'Spiders',\n",
       " 'Edema',\n",
       " 'Bilirubin',\n",
       " 'Cholesterol',\n",
       " 'Albumin',\n",
       " 'Copper',\n",
       " 'Alk_Phos',\n",
       " 'SGOT',\n",
       " 'Tryglicerides',\n",
       " 'Platelets',\n",
       " 'Prothrombin',\n",
       " 'Stage']"
      ]
     },
     "execution_count": 3,
     "metadata": {},
     "output_type": "execute_result"
    }
   ],
   "source": [
    "cols1 = [x for x in data1.columns]\n",
    "cols1"
   ]
  },
  {
   "cell_type": "code",
   "execution_count": 4,
   "id": "5748e5b6",
   "metadata": {
    "execution": {
     "iopub.execute_input": "2023-12-20T10:01:51.075369Z",
     "iopub.status.busy": "2023-12-20T10:01:51.074982Z",
     "iopub.status.idle": "2023-12-20T10:01:51.079763Z",
     "shell.execute_reply": "2023-12-20T10:01:51.078828Z"
    },
    "papermill": {
     "duration": 0.017502,
     "end_time": "2023-12-20T10:01:51.081751",
     "exception": false,
     "start_time": "2023-12-20T10:01:51.064249",
     "status": "completed"
    },
    "tags": []
   },
   "outputs": [],
   "source": [
    "cols2 = [y for y in data2.columns]"
   ]
  },
  {
   "cell_type": "code",
   "execution_count": 5,
   "id": "e201dba6",
   "metadata": {
    "execution": {
     "iopub.execute_input": "2023-12-20T10:01:51.102693Z",
     "iopub.status.busy": "2023-12-20T10:01:51.101915Z",
     "iopub.status.idle": "2023-12-20T10:01:51.106730Z",
     "shell.execute_reply": "2023-12-20T10:01:51.105644Z"
    },
    "papermill": {
     "duration": 0.017385,
     "end_time": "2023-12-20T10:01:51.108687",
     "exception": false,
     "start_time": "2023-12-20T10:01:51.091302",
     "status": "completed"
    },
    "tags": []
   },
   "outputs": [],
   "source": [
    "un = [x for x in zip(cols1,cols2)]"
   ]
  },
  {
   "cell_type": "code",
   "execution_count": 6,
   "id": "6aaefc4a",
   "metadata": {
    "execution": {
     "iopub.execute_input": "2023-12-20T10:01:51.129979Z",
     "iopub.status.busy": "2023-12-20T10:01:51.129616Z",
     "iopub.status.idle": "2023-12-20T10:01:51.136637Z",
     "shell.execute_reply": "2023-12-20T10:01:51.135655Z"
    },
    "papermill": {
     "duration": 0.020195,
     "end_time": "2023-12-20T10:01:51.138476",
     "exception": false,
     "start_time": "2023-12-20T10:01:51.118281",
     "status": "completed"
    },
    "tags": []
   },
   "outputs": [
    {
     "data": {
      "text/plain": [
       "[('ID', 'id'),\n",
       " ('N_Days', 'N_Days'),\n",
       " ('Status', 'Drug'),\n",
       " ('Drug', 'Age'),\n",
       " ('Age', 'Sex'),\n",
       " ('Sex', 'Ascites'),\n",
       " ('Ascites', 'Hepatomegaly'),\n",
       " ('Hepatomegaly', 'Spiders'),\n",
       " ('Spiders', 'Edema'),\n",
       " ('Edema', 'Bilirubin'),\n",
       " ('Bilirubin', 'Cholesterol'),\n",
       " ('Cholesterol', 'Albumin'),\n",
       " ('Albumin', 'Copper'),\n",
       " ('Copper', 'Alk_Phos'),\n",
       " ('Alk_Phos', 'SGOT'),\n",
       " ('SGOT', 'Tryglicerides'),\n",
       " ('Tryglicerides', 'Platelets'),\n",
       " ('Platelets', 'Prothrombin'),\n",
       " ('Prothrombin', 'Stage'),\n",
       " ('Stage', 'Status')]"
      ]
     },
     "execution_count": 6,
     "metadata": {},
     "output_type": "execute_result"
    }
   ],
   "source": [
    "un"
   ]
  },
  {
   "cell_type": "code",
   "execution_count": 7,
   "id": "89691346",
   "metadata": {
    "execution": {
     "iopub.execute_input": "2023-12-20T10:01:51.159565Z",
     "iopub.status.busy": "2023-12-20T10:01:51.158638Z",
     "iopub.status.idle": "2023-12-20T10:01:51.176664Z",
     "shell.execute_reply": "2023-12-20T10:01:51.175746Z"
    },
    "papermill": {
     "duration": 0.030829,
     "end_time": "2023-12-20T10:01:51.178933",
     "exception": false,
     "start_time": "2023-12-20T10:01:51.148104",
     "status": "completed"
    },
    "tags": []
   },
   "outputs": [],
   "source": [
    "data = pd.concat([data1,data2],axis=0)"
   ]
  },
  {
   "cell_type": "code",
   "execution_count": 8,
   "id": "f9921ab5",
   "metadata": {
    "execution": {
     "iopub.execute_input": "2023-12-20T10:01:51.200299Z",
     "iopub.status.busy": "2023-12-20T10:01:51.199863Z",
     "iopub.status.idle": "2023-12-20T10:01:51.212058Z",
     "shell.execute_reply": "2023-12-20T10:01:51.211033Z"
    },
    "papermill": {
     "duration": 0.025417,
     "end_time": "2023-12-20T10:01:51.214248",
     "exception": false,
     "start_time": "2023-12-20T10:01:51.188831",
     "status": "completed"
    },
    "tags": []
   },
   "outputs": [
    {
     "data": {
      "text/plain": [
       "ID               7905\n",
       "N_Days              0\n",
       "Status              0\n",
       "Drug              106\n",
       "Age                 0\n",
       "Sex                 0\n",
       "Ascites           106\n",
       "Hepatomegaly      106\n",
       "Spiders           106\n",
       "Edema               0\n",
       "Bilirubin           0\n",
       "Cholesterol       134\n",
       "Albumin             0\n",
       "Copper            108\n",
       "Alk_Phos          106\n",
       "SGOT              106\n",
       "Tryglicerides     136\n",
       "Platelets          11\n",
       "Prothrombin         2\n",
       "Stage               6\n",
       "id                418\n",
       "dtype: int64"
      ]
     },
     "execution_count": 8,
     "metadata": {},
     "output_type": "execute_result"
    }
   ],
   "source": [
    "data.isnull().sum()"
   ]
  },
  {
   "cell_type": "code",
   "execution_count": 9,
   "id": "1304046c",
   "metadata": {
    "execution": {
     "iopub.execute_input": "2023-12-20T10:01:51.236269Z",
     "iopub.status.busy": "2023-12-20T10:01:51.235852Z",
     "iopub.status.idle": "2023-12-20T10:01:51.244769Z",
     "shell.execute_reply": "2023-12-20T10:01:51.243753Z"
    },
    "papermill": {
     "duration": 0.02294,
     "end_time": "2023-12-20T10:01:51.247265",
     "exception": false,
     "start_time": "2023-12-20T10:01:51.224325",
     "status": "completed"
    },
    "tags": []
   },
   "outputs": [
    {
     "data": {
      "text/plain": [
       "0          NaN\n",
       "1          NaN\n",
       "2          NaN\n",
       "3          NaN\n",
       "4          NaN\n",
       "         ...  \n",
       "7900    7900.0\n",
       "7901    7901.0\n",
       "7902    7902.0\n",
       "7903    7903.0\n",
       "7904    7904.0\n",
       "Name: id, Length: 8323, dtype: float64"
      ]
     },
     "execution_count": 9,
     "metadata": {},
     "output_type": "execute_result"
    }
   ],
   "source": [
    "data['id']"
   ]
  },
  {
   "cell_type": "code",
   "execution_count": 10,
   "id": "4f0d97c2",
   "metadata": {
    "execution": {
     "iopub.execute_input": "2023-12-20T10:01:51.270275Z",
     "iopub.status.busy": "2023-12-20T10:01:51.269474Z",
     "iopub.status.idle": "2023-12-20T10:01:51.275619Z",
     "shell.execute_reply": "2023-12-20T10:01:51.274535Z"
    },
    "papermill": {
     "duration": 0.020901,
     "end_time": "2023-12-20T10:01:51.278430",
     "exception": false,
     "start_time": "2023-12-20T10:01:51.257529",
     "status": "completed"
    },
    "tags": []
   },
   "outputs": [
    {
     "name": "stdout",
     "output_type": "stream",
     "text": [
      "ID\n",
      "N_Days\n",
      "Status\n",
      "Drug\n",
      "Age\n",
      "Sex\n",
      "Ascites\n",
      "Hepatomegaly\n",
      "Spiders\n",
      "Edema\n",
      "Bilirubin\n",
      "Cholesterol\n",
      "Albumin\n",
      "Copper\n",
      "Alk_Phos\n",
      "SGOT\n",
      "Tryglicerides\n",
      "Platelets\n",
      "Prothrombin\n",
      "Stage\n"
     ]
    }
   ],
   "source": [
    "cols = [x for x in data1.columns]\n",
    "for x in cols:\n",
    "    print(x)"
   ]
  },
  {
   "cell_type": "code",
   "execution_count": 11,
   "id": "5fe54b20",
   "metadata": {
    "execution": {
     "iopub.execute_input": "2023-12-20T10:01:51.300876Z",
     "iopub.status.busy": "2023-12-20T10:01:51.300490Z",
     "iopub.status.idle": "2023-12-20T10:01:51.313403Z",
     "shell.execute_reply": "2023-12-20T10:01:51.312384Z"
    },
    "papermill": {
     "duration": 0.026454,
     "end_time": "2023-12-20T10:01:51.315526",
     "exception": false,
     "start_time": "2023-12-20T10:01:51.289072",
     "status": "completed"
    },
    "tags": []
   },
   "outputs": [],
   "source": [
    "data = data.drop('ID',axis = 1)\n",
    "data = data.drop('id',axis = 1)\n",
    "cols.remove('ID')\n",
    "#cols.remove('id')"
   ]
  },
  {
   "cell_type": "code",
   "execution_count": 12,
   "id": "712dca78",
   "metadata": {
    "execution": {
     "iopub.execute_input": "2023-12-20T10:01:51.337244Z",
     "iopub.status.busy": "2023-12-20T10:01:51.336636Z",
     "iopub.status.idle": "2023-12-20T10:01:51.342092Z",
     "shell.execute_reply": "2023-12-20T10:01:51.341129Z"
    },
    "papermill": {
     "duration": 0.018586,
     "end_time": "2023-12-20T10:01:51.344134",
     "exception": false,
     "start_time": "2023-12-20T10:01:51.325548",
     "status": "completed"
    },
    "tags": []
   },
   "outputs": [],
   "source": [
    "objectCols = []\n",
    "for i in cols: \n",
    "    if data[f'{i}'].dtype == object :\n",
    "        objectCols.append(i)"
   ]
  },
  {
   "cell_type": "code",
   "execution_count": 13,
   "id": "c32f9827",
   "metadata": {
    "execution": {
     "iopub.execute_input": "2023-12-20T10:01:51.442832Z",
     "iopub.status.busy": "2023-12-20T10:01:51.442479Z",
     "iopub.status.idle": "2023-12-20T10:01:51.446334Z",
     "shell.execute_reply": "2023-12-20T10:01:51.445444Z"
    },
    "papermill": {
     "duration": 0.017332,
     "end_time": "2023-12-20T10:01:51.448285",
     "exception": false,
     "start_time": "2023-12-20T10:01:51.430953",
     "status": "completed"
    },
    "tags": []
   },
   "outputs": [],
   "source": [
    "objectCols.remove('Status')"
   ]
  },
  {
   "cell_type": "code",
   "execution_count": 14,
   "id": "5ee1958a",
   "metadata": {
    "execution": {
     "iopub.execute_input": "2023-12-20T10:01:51.469870Z",
     "iopub.status.busy": "2023-12-20T10:01:51.469501Z",
     "iopub.status.idle": "2023-12-20T10:01:51.618759Z",
     "shell.execute_reply": "2023-12-20T10:01:51.617668Z"
    },
    "papermill": {
     "duration": 0.162867,
     "end_time": "2023-12-20T10:01:51.621201",
     "exception": false,
     "start_time": "2023-12-20T10:01:51.458334",
     "status": "completed"
    },
    "tags": []
   },
   "outputs": [],
   "source": [
    "from sklearn.preprocessing import OrdinalEncoder\n",
    "from sklearn.preprocessing import LabelEncoder\n",
    "encoder = OrdinalEncoder()\n",
    "labelencoder = LabelEncoder()"
   ]
  },
  {
   "cell_type": "code",
   "execution_count": 15,
   "id": "8fda76a5",
   "metadata": {
    "execution": {
     "iopub.execute_input": "2023-12-20T10:01:51.643214Z",
     "iopub.status.busy": "2023-12-20T10:01:51.642812Z",
     "iopub.status.idle": "2023-12-20T10:01:51.668543Z",
     "shell.execute_reply": "2023-12-20T10:01:51.667544Z"
    },
    "papermill": {
     "duration": 0.039616,
     "end_time": "2023-12-20T10:01:51.671098",
     "exception": false,
     "start_time": "2023-12-20T10:01:51.631482",
     "status": "completed"
    },
    "tags": []
   },
   "outputs": [],
   "source": [
    "encodedData = data.copy()\n",
    "encodedData[objectCols] = encoder.fit_transform(data[objectCols])\n",
    "encodedData['Status'] = labelencoder.fit_transform(data['Status'])"
   ]
  },
  {
   "cell_type": "code",
   "execution_count": 16,
   "id": "9f894de7",
   "metadata": {
    "execution": {
     "iopub.execute_input": "2023-12-20T10:01:51.693426Z",
     "iopub.status.busy": "2023-12-20T10:01:51.692678Z",
     "iopub.status.idle": "2023-12-20T10:01:51.703010Z",
     "shell.execute_reply": "2023-12-20T10:01:51.702124Z"
    },
    "papermill": {
     "duration": 0.023536,
     "end_time": "2023-12-20T10:01:51.705016",
     "exception": false,
     "start_time": "2023-12-20T10:01:51.681480",
     "status": "completed"
    },
    "tags": []
   },
   "outputs": [
    {
     "data": {
      "text/plain": [
       "Status\n",
       "0    5197\n",
       "2    2826\n",
       "1     300\n",
       "Name: count, dtype: int64"
      ]
     },
     "execution_count": 16,
     "metadata": {},
     "output_type": "execute_result"
    }
   ],
   "source": [
    "encodedData['Status'].value_counts()"
   ]
  },
  {
   "cell_type": "code",
   "execution_count": 17,
   "id": "7bb0df0d",
   "metadata": {
    "execution": {
     "iopub.execute_input": "2023-12-20T10:01:51.727491Z",
     "iopub.status.busy": "2023-12-20T10:01:51.726841Z",
     "iopub.status.idle": "2023-12-20T10:01:52.000835Z",
     "shell.execute_reply": "2023-12-20T10:01:52.000021Z"
    },
    "papermill": {
     "duration": 0.288157,
     "end_time": "2023-12-20T10:01:52.003398",
     "exception": false,
     "start_time": "2023-12-20T10:01:51.715241",
     "status": "completed"
    },
    "tags": []
   },
   "outputs": [],
   "source": [
    "from sklearn.impute import SimpleImputer\n",
    "imputer = SimpleImputer()"
   ]
  },
  {
   "cell_type": "code",
   "execution_count": 18,
   "id": "c5f4513a",
   "metadata": {
    "execution": {
     "iopub.execute_input": "2023-12-20T10:01:52.026119Z",
     "iopub.status.busy": "2023-12-20T10:01:52.025710Z",
     "iopub.status.idle": "2023-12-20T10:01:52.037925Z",
     "shell.execute_reply": "2023-12-20T10:01:52.036926Z"
    },
    "papermill": {
     "duration": 0.026123,
     "end_time": "2023-12-20T10:01:52.040055",
     "exception": false,
     "start_time": "2023-12-20T10:01:52.013932",
     "status": "completed"
    },
    "tags": []
   },
   "outputs": [],
   "source": [
    "imputedData = pd.DataFrame(imputer.fit_transform(encodedData),columns = cols)"
   ]
  },
  {
   "cell_type": "code",
   "execution_count": 19,
   "id": "19368803",
   "metadata": {
    "execution": {
     "iopub.execute_input": "2023-12-20T10:01:52.063172Z",
     "iopub.status.busy": "2023-12-20T10:01:52.062041Z",
     "iopub.status.idle": "2023-12-20T10:01:52.069968Z",
     "shell.execute_reply": "2023-12-20T10:01:52.069185Z"
    },
    "papermill": {
     "duration": 0.02142,
     "end_time": "2023-12-20T10:01:52.071859",
     "exception": false,
     "start_time": "2023-12-20T10:01:52.050439",
     "status": "completed"
    },
    "tags": []
   },
   "outputs": [
    {
     "data": {
      "text/plain": [
       "N_Days           0\n",
       "Status           0\n",
       "Drug             0\n",
       "Age              0\n",
       "Sex              0\n",
       "Ascites          0\n",
       "Hepatomegaly     0\n",
       "Spiders          0\n",
       "Edema            0\n",
       "Bilirubin        0\n",
       "Cholesterol      0\n",
       "Albumin          0\n",
       "Copper           0\n",
       "Alk_Phos         0\n",
       "SGOT             0\n",
       "Tryglicerides    0\n",
       "Platelets        0\n",
       "Prothrombin      0\n",
       "Stage            0\n",
       "dtype: int64"
      ]
     },
     "execution_count": 19,
     "metadata": {},
     "output_type": "execute_result"
    }
   ],
   "source": [
    "imputedData.isnull().sum()"
   ]
  },
  {
   "cell_type": "code",
   "execution_count": 20,
   "id": "262c53bc",
   "metadata": {
    "execution": {
     "iopub.execute_input": "2023-12-20T10:01:52.095151Z",
     "iopub.status.busy": "2023-12-20T10:01:52.094257Z",
     "iopub.status.idle": "2023-12-20T10:01:52.098582Z",
     "shell.execute_reply": "2023-12-20T10:01:52.097552Z"
    },
    "papermill": {
     "duration": 0.018145,
     "end_time": "2023-12-20T10:01:52.100513",
     "exception": false,
     "start_time": "2023-12-20T10:01:52.082368",
     "status": "completed"
    },
    "tags": []
   },
   "outputs": [],
   "source": [
    "#smoten = SMOTEN()"
   ]
  },
  {
   "cell_type": "code",
   "execution_count": 21,
   "id": "eb27874e",
   "metadata": {
    "execution": {
     "iopub.execute_input": "2023-12-20T10:01:52.122938Z",
     "iopub.status.busy": "2023-12-20T10:01:52.122524Z",
     "iopub.status.idle": "2023-12-20T10:01:52.128877Z",
     "shell.execute_reply": "2023-12-20T10:01:52.128124Z"
    },
    "papermill": {
     "duration": 0.019986,
     "end_time": "2023-12-20T10:01:52.130811",
     "exception": false,
     "start_time": "2023-12-20T10:01:52.110825",
     "status": "completed"
    },
    "tags": []
   },
   "outputs": [],
   "source": [
    "X = imputedData[cols]\n",
    "y = imputedData['Status']"
   ]
  },
  {
   "cell_type": "code",
   "execution_count": 22,
   "id": "a778b206",
   "metadata": {
    "execution": {
     "iopub.execute_input": "2023-12-20T10:01:52.153842Z",
     "iopub.status.busy": "2023-12-20T10:01:52.152903Z",
     "iopub.status.idle": "2023-12-20T10:01:52.159500Z",
     "shell.execute_reply": "2023-12-20T10:01:52.158308Z"
    },
    "papermill": {
     "duration": 0.020448,
     "end_time": "2023-12-20T10:01:52.161568",
     "exception": false,
     "start_time": "2023-12-20T10:01:52.141120",
     "status": "completed"
    },
    "tags": []
   },
   "outputs": [],
   "source": [
    "X = X.drop('Status',axis = 1)"
   ]
  },
  {
   "cell_type": "code",
   "execution_count": 23,
   "id": "bced572d",
   "metadata": {
    "execution": {
     "iopub.execute_input": "2023-12-20T10:01:52.184433Z",
     "iopub.status.busy": "2023-12-20T10:01:52.183505Z",
     "iopub.status.idle": "2023-12-20T10:01:52.189557Z",
     "shell.execute_reply": "2023-12-20T10:01:52.188646Z"
    },
    "papermill": {
     "duration": 0.019719,
     "end_time": "2023-12-20T10:01:52.191709",
     "exception": false,
     "start_time": "2023-12-20T10:01:52.171990",
     "status": "completed"
    },
    "tags": []
   },
   "outputs": [
    {
     "data": {
      "text/plain": [
       "(8323, 18)"
      ]
     },
     "execution_count": 23,
     "metadata": {},
     "output_type": "execute_result"
    }
   ],
   "source": [
    "X.shape"
   ]
  },
  {
   "cell_type": "code",
   "execution_count": 24,
   "id": "3288fdb9",
   "metadata": {
    "execution": {
     "iopub.execute_input": "2023-12-20T10:01:52.213966Z",
     "iopub.status.busy": "2023-12-20T10:01:52.213608Z",
     "iopub.status.idle": "2023-12-20T10:01:52.221918Z",
     "shell.execute_reply": "2023-12-20T10:01:52.221111Z"
    },
    "papermill": {
     "duration": 0.021786,
     "end_time": "2023-12-20T10:01:52.223827",
     "exception": false,
     "start_time": "2023-12-20T10:01:52.202041",
     "status": "completed"
    },
    "tags": []
   },
   "outputs": [
    {
     "data": {
      "text/plain": [
       "Status\n",
       "0.0    5197\n",
       "2.0    2826\n",
       "1.0     300\n",
       "Name: count, dtype: int64"
      ]
     },
     "execution_count": 24,
     "metadata": {},
     "output_type": "execute_result"
    }
   ],
   "source": [
    "y.value_counts()"
   ]
  },
  {
   "cell_type": "code",
   "execution_count": 25,
   "id": "a6e1e844",
   "metadata": {
    "execution": {
     "iopub.execute_input": "2023-12-20T10:01:52.247683Z",
     "iopub.status.busy": "2023-12-20T10:01:52.246674Z",
     "iopub.status.idle": "2023-12-20T10:01:52.371494Z",
     "shell.execute_reply": "2023-12-20T10:01:52.370455Z"
    },
    "papermill": {
     "duration": 0.139145,
     "end_time": "2023-12-20T10:01:52.374016",
     "exception": false,
     "start_time": "2023-12-20T10:01:52.234871",
     "status": "completed"
    },
    "tags": []
   },
   "outputs": [],
   "source": [
    "yn = keras.utils.to_categorical(y)"
   ]
  },
  {
   "cell_type": "code",
   "execution_count": 26,
   "id": "691903b2",
   "metadata": {
    "execution": {
     "iopub.execute_input": "2023-12-20T10:01:52.397221Z",
     "iopub.status.busy": "2023-12-20T10:01:52.396827Z",
     "iopub.status.idle": "2023-12-20T10:01:52.403197Z",
     "shell.execute_reply": "2023-12-20T10:01:52.401988Z"
    },
    "papermill": {
     "duration": 0.020572,
     "end_time": "2023-12-20T10:01:52.405463",
     "exception": false,
     "start_time": "2023-12-20T10:01:52.384891",
     "status": "completed"
    },
    "tags": []
   },
   "outputs": [],
   "source": [
    "yn = pd.DataFrame(yn,columns = ['Status_C','Status_CL','Status_D']).to_numpy()\n",
    "xn = X.to_numpy()"
   ]
  },
  {
   "cell_type": "code",
   "execution_count": 27,
   "id": "df1f3623",
   "metadata": {
    "execution": {
     "iopub.execute_input": "2023-12-20T10:01:52.428891Z",
     "iopub.status.busy": "2023-12-20T10:01:52.428117Z",
     "iopub.status.idle": "2023-12-20T10:01:52.432825Z",
     "shell.execute_reply": "2023-12-20T10:01:52.432120Z"
    },
    "papermill": {
     "duration": 0.018714,
     "end_time": "2023-12-20T10:01:52.434861",
     "exception": false,
     "start_time": "2023-12-20T10:01:52.416147",
     "status": "completed"
    },
    "tags": []
   },
   "outputs": [],
   "source": [
    "batch =  int(xn.shape[0]/28)"
   ]
  },
  {
   "cell_type": "code",
   "execution_count": 28,
   "id": "63ba37bf",
   "metadata": {
    "execution": {
     "iopub.execute_input": "2023-12-20T10:01:52.457787Z",
     "iopub.status.busy": "2023-12-20T10:01:52.457021Z",
     "iopub.status.idle": "2023-12-20T10:01:52.568503Z",
     "shell.execute_reply": "2023-12-20T10:01:52.567496Z"
    },
    "papermill": {
     "duration": 0.12566,
     "end_time": "2023-12-20T10:01:52.570938",
     "exception": false,
     "start_time": "2023-12-20T10:01:52.445278",
     "status": "completed"
    },
    "tags": []
   },
   "outputs": [],
   "source": [
    "model = keras.Sequential()\n",
    "\n",
    "#model.add(keras.layers.Flatten()\n",
    "\n",
    "model.add(keras.layers.Dense(batch*2,activation = 'relu'))\n",
    "model.add(keras.layers.GaussianDropout(0.2))\n",
    "\n",
    "model.add(keras.layers.Dense(int(batch),activation = 'relu'))\n",
    "model.add(keras.layers.GaussianDropout(0.2))\n",
    "\n",
    "\n",
    "model.add(keras.layers.Dense(3,activation = 'sigmoid'))"
   ]
  },
  {
   "cell_type": "code",
   "execution_count": 29,
   "id": "05b3ac1b",
   "metadata": {
    "execution": {
     "iopub.execute_input": "2023-12-20T10:01:52.593904Z",
     "iopub.status.busy": "2023-12-20T10:01:52.593537Z",
     "iopub.status.idle": "2023-12-20T10:01:52.626376Z",
     "shell.execute_reply": "2023-12-20T10:01:52.625441Z"
    },
    "papermill": {
     "duration": 0.047003,
     "end_time": "2023-12-20T10:01:52.628855",
     "exception": false,
     "start_time": "2023-12-20T10:01:52.581852",
     "status": "completed"
    },
    "tags": []
   },
   "outputs": [],
   "source": [
    "model.compile(optimizer = keras.optimizers.Adam(learning_rate = 0.01),loss = keras.losses.CategoricalCrossentropy(),metrics = [keras.metrics.CategoricalAccuracy(),keras.metrics.CategoricalCrossentropy()])"
   ]
  },
  {
   "cell_type": "code",
   "execution_count": 30,
   "id": "da3de41f",
   "metadata": {
    "execution": {
     "iopub.execute_input": "2023-12-20T10:01:52.652392Z",
     "iopub.status.busy": "2023-12-20T10:01:52.652001Z",
     "iopub.status.idle": "2023-12-20T10:01:52.656890Z",
     "shell.execute_reply": "2023-12-20T10:01:52.655960Z"
    },
    "papermill": {
     "duration": 0.019535,
     "end_time": "2023-12-20T10:01:52.659133",
     "exception": false,
     "start_time": "2023-12-20T10:01:52.639598",
     "status": "completed"
    },
    "tags": []
   },
   "outputs": [],
   "source": [
    "callback = keras.callbacks.EarlyStopping(\n",
    "    monitor='val_categical_crossentropy',\n",
    "    min_delta=0.01,\n",
    "    patience=20,\n",
    "    verbose=0,\n",
    "    mode='min',\n",
    "    baseline=None,\n",
    "    restore_best_weights=True,\n",
    "    start_from_epoch=0\n",
    ")"
   ]
  },
  {
   "cell_type": "code",
   "execution_count": 31,
   "id": "5c7de6c2",
   "metadata": {
    "execution": {
     "iopub.execute_input": "2023-12-20T10:01:52.682055Z",
     "iopub.status.busy": "2023-12-20T10:01:52.681702Z",
     "iopub.status.idle": "2023-12-20T10:02:34.728483Z",
     "shell.execute_reply": "2023-12-20T10:02:34.727173Z"
    },
    "papermill": {
     "duration": 42.061495,
     "end_time": "2023-12-20T10:02:34.731371",
     "exception": false,
     "start_time": "2023-12-20T10:01:52.669876",
     "status": "completed"
    },
    "tags": []
   },
   "outputs": [],
   "source": [
    "history = model.fit(xn,yn,batch_size = batch,epochs = 100,callbacks = callback,validation_split = 0.25,verbose = 0)"
   ]
  },
  {
   "cell_type": "code",
   "execution_count": 32,
   "id": "9d663115",
   "metadata": {
    "execution": {
     "iopub.execute_input": "2023-12-20T10:02:34.754577Z",
     "iopub.status.busy": "2023-12-20T10:02:34.754164Z",
     "iopub.status.idle": "2023-12-20T10:02:34.796922Z",
     "shell.execute_reply": "2023-12-20T10:02:34.795667Z"
    },
    "papermill": {
     "duration": 0.057272,
     "end_time": "2023-12-20T10:02:34.799539",
     "exception": false,
     "start_time": "2023-12-20T10:02:34.742267",
     "status": "completed"
    },
    "tags": []
   },
   "outputs": [],
   "source": [
    "test = pd.read_csv('/kaggle/input/playground-series-s3e26/test.csv')\n",
    "ID = test['id']\n",
    "test = test.drop('id',axis = 1)\n",
    "test[objectCols] = encoder.transform(test[objectCols])"
   ]
  },
  {
   "cell_type": "code",
   "execution_count": 33,
   "id": "651824ba",
   "metadata": {
    "execution": {
     "iopub.execute_input": "2023-12-20T10:02:34.822827Z",
     "iopub.status.busy": "2023-12-20T10:02:34.822433Z",
     "iopub.status.idle": "2023-12-20T10:02:35.604745Z",
     "shell.execute_reply": "2023-12-20T10:02:35.603518Z"
    },
    "papermill": {
     "duration": 0.796976,
     "end_time": "2023-12-20T10:02:35.607395",
     "exception": false,
     "start_time": "2023-12-20T10:02:34.810419",
     "status": "completed"
    },
    "tags": []
   },
   "outputs": [
    {
     "name": "stdout",
     "output_type": "stream",
     "text": [
      "165/165 [==============================] - 0s 1ms/step\n"
     ]
    }
   ],
   "source": [
    "pred = model.predict(test)"
   ]
  },
  {
   "cell_type": "code",
   "execution_count": 34,
   "id": "3423df2c",
   "metadata": {
    "execution": {
     "iopub.execute_input": "2023-12-20T10:02:35.631529Z",
     "iopub.status.busy": "2023-12-20T10:02:35.631106Z",
     "iopub.status.idle": "2023-12-20T10:02:35.646956Z",
     "shell.execute_reply": "2023-12-20T10:02:35.645939Z"
    },
    "papermill": {
     "duration": 0.030383,
     "end_time": "2023-12-20T10:02:35.649050",
     "exception": false,
     "start_time": "2023-12-20T10:02:35.618667",
     "status": "completed"
    },
    "tags": []
   },
   "outputs": [
    {
     "data": {
      "text/html": [
       "<div>\n",
       "<style scoped>\n",
       "    .dataframe tbody tr th:only-of-type {\n",
       "        vertical-align: middle;\n",
       "    }\n",
       "\n",
       "    .dataframe tbody tr th {\n",
       "        vertical-align: top;\n",
       "    }\n",
       "\n",
       "    .dataframe thead th {\n",
       "        text-align: right;\n",
       "    }\n",
       "</style>\n",
       "<table border=\"1\" class=\"dataframe\">\n",
       "  <thead>\n",
       "    <tr style=\"text-align: right;\">\n",
       "      <th></th>\n",
       "      <th>0</th>\n",
       "      <th>1</th>\n",
       "      <th>2</th>\n",
       "    </tr>\n",
       "  </thead>\n",
       "  <tbody>\n",
       "    <tr>\n",
       "      <th>0</th>\n",
       "      <td>0.755808</td>\n",
       "      <td>0.151373</td>\n",
       "      <td>0.641182</td>\n",
       "    </tr>\n",
       "    <tr>\n",
       "      <th>1</th>\n",
       "      <td>0.755808</td>\n",
       "      <td>0.151373</td>\n",
       "      <td>0.641182</td>\n",
       "    </tr>\n",
       "    <tr>\n",
       "      <th>2</th>\n",
       "      <td>0.755808</td>\n",
       "      <td>0.151373</td>\n",
       "      <td>0.641182</td>\n",
       "    </tr>\n",
       "    <tr>\n",
       "      <th>3</th>\n",
       "      <td>0.755808</td>\n",
       "      <td>0.151373</td>\n",
       "      <td>0.641182</td>\n",
       "    </tr>\n",
       "    <tr>\n",
       "      <th>4</th>\n",
       "      <td>0.755808</td>\n",
       "      <td>0.151373</td>\n",
       "      <td>0.641182</td>\n",
       "    </tr>\n",
       "    <tr>\n",
       "      <th>...</th>\n",
       "      <td>...</td>\n",
       "      <td>...</td>\n",
       "      <td>...</td>\n",
       "    </tr>\n",
       "    <tr>\n",
       "      <th>5266</th>\n",
       "      <td>0.755808</td>\n",
       "      <td>0.151373</td>\n",
       "      <td>0.641182</td>\n",
       "    </tr>\n",
       "    <tr>\n",
       "      <th>5267</th>\n",
       "      <td>0.755808</td>\n",
       "      <td>0.151373</td>\n",
       "      <td>0.641182</td>\n",
       "    </tr>\n",
       "    <tr>\n",
       "      <th>5268</th>\n",
       "      <td>0.755808</td>\n",
       "      <td>0.151373</td>\n",
       "      <td>0.641182</td>\n",
       "    </tr>\n",
       "    <tr>\n",
       "      <th>5269</th>\n",
       "      <td>0.755808</td>\n",
       "      <td>0.151373</td>\n",
       "      <td>0.641182</td>\n",
       "    </tr>\n",
       "    <tr>\n",
       "      <th>5270</th>\n",
       "      <td>0.755808</td>\n",
       "      <td>0.151373</td>\n",
       "      <td>0.641182</td>\n",
       "    </tr>\n",
       "  </tbody>\n",
       "</table>\n",
       "<p>5271 rows × 3 columns</p>\n",
       "</div>"
      ],
      "text/plain": [
       "             0         1         2\n",
       "0     0.755808  0.151373  0.641182\n",
       "1     0.755808  0.151373  0.641182\n",
       "2     0.755808  0.151373  0.641182\n",
       "3     0.755808  0.151373  0.641182\n",
       "4     0.755808  0.151373  0.641182\n",
       "...        ...       ...       ...\n",
       "5266  0.755808  0.151373  0.641182\n",
       "5267  0.755808  0.151373  0.641182\n",
       "5268  0.755808  0.151373  0.641182\n",
       "5269  0.755808  0.151373  0.641182\n",
       "5270  0.755808  0.151373  0.641182\n",
       "\n",
       "[5271 rows x 3 columns]"
      ]
     },
     "execution_count": 34,
     "metadata": {},
     "output_type": "execute_result"
    }
   ],
   "source": [
    "predicted = pd.DataFrame(pred)\n",
    "predicted"
   ]
  },
  {
   "cell_type": "code",
   "execution_count": 35,
   "id": "6f0aadb5",
   "metadata": {
    "execution": {
     "iopub.execute_input": "2023-12-20T10:02:35.673473Z",
     "iopub.status.busy": "2023-12-20T10:02:35.673024Z",
     "iopub.status.idle": "2023-12-20T10:02:35.679143Z",
     "shell.execute_reply": "2023-12-20T10:02:35.678022Z"
    },
    "papermill": {
     "duration": 0.021029,
     "end_time": "2023-12-20T10:02:35.681466",
     "exception": false,
     "start_time": "2023-12-20T10:02:35.660437",
     "status": "completed"
    },
    "tags": []
   },
   "outputs": [],
   "source": [
    "sub = pd.DataFrame({'id':ID,'Status_C':predicted[0],'Status_CL':predicted[1],'Status_D':predicted[2]})"
   ]
  },
  {
   "cell_type": "code",
   "execution_count": 36,
   "id": "ff3569d0",
   "metadata": {
    "execution": {
     "iopub.execute_input": "2023-12-20T10:02:35.707003Z",
     "iopub.status.busy": "2023-12-20T10:02:35.706215Z",
     "iopub.status.idle": "2023-12-20T10:02:35.735987Z",
     "shell.execute_reply": "2023-12-20T10:02:35.734845Z"
    },
    "papermill": {
     "duration": 0.045261,
     "end_time": "2023-12-20T10:02:35.738496",
     "exception": false,
     "start_time": "2023-12-20T10:02:35.693235",
     "status": "completed"
    },
    "tags": []
   },
   "outputs": [],
   "source": [
    "sub.to_csv(\"submission.csv\", index = False)"
   ]
  },
  {
   "cell_type": "code",
   "execution_count": null,
   "id": "28da9fbc",
   "metadata": {
    "papermill": {
     "duration": 0.010934,
     "end_time": "2023-12-20T10:02:35.761037",
     "exception": false,
     "start_time": "2023-12-20T10:02:35.750103",
     "status": "completed"
    },
    "tags": []
   },
   "outputs": [],
   "source": []
  },
  {
   "cell_type": "code",
   "execution_count": null,
   "id": "eeab554d",
   "metadata": {
    "papermill": {
     "duration": 0.010834,
     "end_time": "2023-12-20T10:02:35.783056",
     "exception": false,
     "start_time": "2023-12-20T10:02:35.772222",
     "status": "completed"
    },
    "tags": []
   },
   "outputs": [],
   "source": []
  },
  {
   "cell_type": "code",
   "execution_count": null,
   "id": "34532431",
   "metadata": {
    "papermill": {
     "duration": 0.010718,
     "end_time": "2023-12-20T10:02:35.804881",
     "exception": false,
     "start_time": "2023-12-20T10:02:35.794163",
     "status": "completed"
    },
    "tags": []
   },
   "outputs": [],
   "source": []
  },
  {
   "cell_type": "code",
   "execution_count": null,
   "id": "5e9aad24",
   "metadata": {
    "papermill": {
     "duration": 0.010787,
     "end_time": "2023-12-20T10:02:35.826710",
     "exception": false,
     "start_time": "2023-12-20T10:02:35.815923",
     "status": "completed"
    },
    "tags": []
   },
   "outputs": [],
   "source": []
  },
  {
   "cell_type": "code",
   "execution_count": null,
   "id": "cef53802",
   "metadata": {
    "papermill": {
     "duration": 0.010743,
     "end_time": "2023-12-20T10:02:35.848551",
     "exception": false,
     "start_time": "2023-12-20T10:02:35.837808",
     "status": "completed"
    },
    "tags": []
   },
   "outputs": [],
   "source": []
  },
  {
   "cell_type": "code",
   "execution_count": null,
   "id": "43e3755c",
   "metadata": {
    "papermill": {
     "duration": 0.010815,
     "end_time": "2023-12-20T10:02:35.872193",
     "exception": false,
     "start_time": "2023-12-20T10:02:35.861378",
     "status": "completed"
    },
    "tags": []
   },
   "outputs": [],
   "source": []
  },
  {
   "cell_type": "code",
   "execution_count": null,
   "id": "7030c7ae",
   "metadata": {
    "papermill": {
     "duration": 0.010806,
     "end_time": "2023-12-20T10:02:35.894236",
     "exception": false,
     "start_time": "2023-12-20T10:02:35.883430",
     "status": "completed"
    },
    "tags": []
   },
   "outputs": [],
   "source": []
  },
  {
   "cell_type": "code",
   "execution_count": null,
   "id": "d7240dac",
   "metadata": {
    "papermill": {
     "duration": 0.010833,
     "end_time": "2023-12-20T10:02:35.916137",
     "exception": false,
     "start_time": "2023-12-20T10:02:35.905304",
     "status": "completed"
    },
    "tags": []
   },
   "outputs": [],
   "source": []
  },
  {
   "cell_type": "code",
   "execution_count": null,
   "id": "cd470203",
   "metadata": {
    "papermill": {
     "duration": 0.011233,
     "end_time": "2023-12-20T10:02:35.938364",
     "exception": false,
     "start_time": "2023-12-20T10:02:35.927131",
     "status": "completed"
    },
    "tags": []
   },
   "outputs": [],
   "source": []
  },
  {
   "cell_type": "code",
   "execution_count": null,
   "id": "73037a4f",
   "metadata": {
    "papermill": {
     "duration": 0.010849,
     "end_time": "2023-12-20T10:02:35.960552",
     "exception": false,
     "start_time": "2023-12-20T10:02:35.949703",
     "status": "completed"
    },
    "tags": []
   },
   "outputs": [],
   "source": []
  },
  {
   "cell_type": "code",
   "execution_count": null,
   "id": "3beac414",
   "metadata": {
    "papermill": {
     "duration": 0.01076,
     "end_time": "2023-12-20T10:02:35.982377",
     "exception": false,
     "start_time": "2023-12-20T10:02:35.971617",
     "status": "completed"
    },
    "tags": []
   },
   "outputs": [],
   "source": []
  },
  {
   "cell_type": "code",
   "execution_count": null,
   "id": "9a2a1816",
   "metadata": {
    "papermill": {
     "duration": 0.011422,
     "end_time": "2023-12-20T10:02:36.004903",
     "exception": false,
     "start_time": "2023-12-20T10:02:35.993481",
     "status": "completed"
    },
    "tags": []
   },
   "outputs": [],
   "source": []
  }
 ],
 "metadata": {
  "kaggle": {
   "accelerator": "none",
   "dataSources": [
    {
     "databundleVersionId": 7000181,
     "sourceId": 60893,
     "sourceType": "competition"
    },
    {
     "datasetId": 3873965,
     "sourceId": 6724823,
     "sourceType": "datasetVersion"
    }
   ],
   "dockerImageVersionId": 30587,
   "isGpuEnabled": false,
   "isInternetEnabled": false,
   "language": "python",
   "sourceType": "notebook"
  },
  "kernelspec": {
   "display_name": "Python 3",
   "language": "python",
   "name": "python3"
  },
  "language_info": {
   "codemirror_mode": {
    "name": "ipython",
    "version": 3
   },
   "file_extension": ".py",
   "mimetype": "text/x-python",
   "name": "python",
   "nbconvert_exporter": "python",
   "pygments_lexer": "ipython3",
   "version": "3.10.12"
  },
  "papermill": {
   "default_parameters": {},
   "duration": 65.376023,
   "end_time": "2023-12-20T10:02:38.515887",
   "environment_variables": {},
   "exception": null,
   "input_path": "__notebook__.ipynb",
   "output_path": "__notebook__.ipynb",
   "parameters": {},
   "start_time": "2023-12-20T10:01:33.139864",
   "version": "2.4.0"
  }
 },
 "nbformat": 4,
 "nbformat_minor": 5
}
