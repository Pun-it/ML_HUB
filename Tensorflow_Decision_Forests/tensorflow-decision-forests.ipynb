{
 "cells": [
  {
   "cell_type": "code",
   "execution_count": 1,
   "id": "c47716f8",
   "metadata": {
    "execution": {
     "iopub.execute_input": "2023-12-16T19:33:26.385132Z",
     "iopub.status.busy": "2023-12-16T19:33:26.384502Z",
     "iopub.status.idle": "2023-12-16T19:33:41.439213Z",
     "shell.execute_reply": "2023-12-16T19:33:41.438391Z"
    },
    "papermill": {
     "duration": 15.072523,
     "end_time": "2023-12-16T19:33:41.441631",
     "exception": false,
     "start_time": "2023-12-16T19:33:26.369108",
     "status": "completed"
    },
    "tags": []
   },
   "outputs": [],
   "source": [
    "import pandas as pd\n",
    "import seaborn as sns\n",
    "import numpy as np\n",
    "import matplotlib.pyplot as plt\n",
    "from tensorflow.keras.utils import to_categorical\n",
    "from imblearn.over_sampling import SMOTEN\n",
    "from sklearn.ensemble import RandomForestClassifier\n",
    "from sklearn.model_selection import train_test_split"
   ]
  },
  {
   "cell_type": "code",
   "execution_count": 2,
   "id": "99795a73",
   "metadata": {
    "execution": {
     "iopub.execute_input": "2023-12-16T19:33:41.470860Z",
     "iopub.status.busy": "2023-12-16T19:33:41.469823Z",
     "iopub.status.idle": "2023-12-16T19:33:41.790084Z",
     "shell.execute_reply": "2023-12-16T19:33:41.789114Z"
    },
    "papermill": {
     "duration": 0.337659,
     "end_time": "2023-12-16T19:33:41.792967",
     "exception": false,
     "start_time": "2023-12-16T19:33:41.455308",
     "status": "completed"
    },
    "tags": []
   },
   "outputs": [],
   "source": [
    "import tensorflow_decision_forests as tfdf\n",
    "import pandas as pd"
   ]
  },
  {
   "cell_type": "code",
   "execution_count": 3,
   "id": "f251a849",
   "metadata": {
    "execution": {
     "iopub.execute_input": "2023-12-16T19:33:41.821025Z",
     "iopub.status.busy": "2023-12-16T19:33:41.820624Z",
     "iopub.status.idle": "2023-12-16T19:33:41.883718Z",
     "shell.execute_reply": "2023-12-16T19:33:41.882849Z"
    },
    "papermill": {
     "duration": 0.079799,
     "end_time": "2023-12-16T19:33:41.886034",
     "exception": false,
     "start_time": "2023-12-16T19:33:41.806235",
     "status": "completed"
    },
    "tags": []
   },
   "outputs": [],
   "source": [
    "data1 = pd.read_csv('/kaggle/input/cirrhosis-patient-survival-prediction/cirrhosis.csv')\n",
    "data2 = pd.read_csv('/kaggle/input/playground-series-s3e26/train.csv')"
   ]
  },
  {
   "cell_type": "code",
   "execution_count": 4,
   "id": "cd17b09d",
   "metadata": {
    "execution": {
     "iopub.execute_input": "2023-12-16T19:33:41.915052Z",
     "iopub.status.busy": "2023-12-16T19:33:41.914429Z",
     "iopub.status.idle": "2023-12-16T19:33:41.921179Z",
     "shell.execute_reply": "2023-12-16T19:33:41.920385Z"
    },
    "papermill": {
     "duration": 0.023851,
     "end_time": "2023-12-16T19:33:41.923254",
     "exception": false,
     "start_time": "2023-12-16T19:33:41.899403",
     "status": "completed"
    },
    "tags": []
   },
   "outputs": [
    {
     "data": {
      "text/plain": [
       "['ID',\n",
       " 'N_Days',\n",
       " 'Status',\n",
       " 'Drug',\n",
       " 'Age',\n",
       " 'Sex',\n",
       " 'Ascites',\n",
       " 'Hepatomegaly',\n",
       " 'Spiders',\n",
       " 'Edema',\n",
       " 'Bilirubin',\n",
       " 'Cholesterol',\n",
       " 'Albumin',\n",
       " 'Copper',\n",
       " 'Alk_Phos',\n",
       " 'SGOT',\n",
       " 'Tryglicerides',\n",
       " 'Platelets',\n",
       " 'Prothrombin',\n",
       " 'Stage']"
      ]
     },
     "execution_count": 4,
     "metadata": {},
     "output_type": "execute_result"
    }
   ],
   "source": [
    "cols1 = [x for x in data1.columns]\n",
    "cols1"
   ]
  },
  {
   "cell_type": "code",
   "execution_count": 5,
   "id": "9872508e",
   "metadata": {
    "execution": {
     "iopub.execute_input": "2023-12-16T19:33:41.952710Z",
     "iopub.status.busy": "2023-12-16T19:33:41.952281Z",
     "iopub.status.idle": "2023-12-16T19:33:41.957356Z",
     "shell.execute_reply": "2023-12-16T19:33:41.956134Z"
    },
    "papermill": {
     "duration": 0.022501,
     "end_time": "2023-12-16T19:33:41.959504",
     "exception": false,
     "start_time": "2023-12-16T19:33:41.937003",
     "status": "completed"
    },
    "tags": []
   },
   "outputs": [],
   "source": [
    "cols2 = [y for y in data2.columns]"
   ]
  },
  {
   "cell_type": "code",
   "execution_count": 6,
   "id": "bb6121fd",
   "metadata": {
    "execution": {
     "iopub.execute_input": "2023-12-16T19:33:41.988148Z",
     "iopub.status.busy": "2023-12-16T19:33:41.987772Z",
     "iopub.status.idle": "2023-12-16T19:33:41.992924Z",
     "shell.execute_reply": "2023-12-16T19:33:41.991805Z"
    },
    "papermill": {
     "duration": 0.022183,
     "end_time": "2023-12-16T19:33:41.995253",
     "exception": false,
     "start_time": "2023-12-16T19:33:41.973070",
     "status": "completed"
    },
    "tags": []
   },
   "outputs": [],
   "source": [
    "un = [x for x in zip(cols1,cols2)]"
   ]
  },
  {
   "cell_type": "code",
   "execution_count": 7,
   "id": "ba6857db",
   "metadata": {
    "execution": {
     "iopub.execute_input": "2023-12-16T19:33:42.023735Z",
     "iopub.status.busy": "2023-12-16T19:33:42.023336Z",
     "iopub.status.idle": "2023-12-16T19:33:42.030546Z",
     "shell.execute_reply": "2023-12-16T19:33:42.029443Z"
    },
    "papermill": {
     "duration": 0.023759,
     "end_time": "2023-12-16T19:33:42.032668",
     "exception": false,
     "start_time": "2023-12-16T19:33:42.008909",
     "status": "completed"
    },
    "tags": []
   },
   "outputs": [
    {
     "data": {
      "text/plain": [
       "[('ID', 'id'),\n",
       " ('N_Days', 'N_Days'),\n",
       " ('Status', 'Drug'),\n",
       " ('Drug', 'Age'),\n",
       " ('Age', 'Sex'),\n",
       " ('Sex', 'Ascites'),\n",
       " ('Ascites', 'Hepatomegaly'),\n",
       " ('Hepatomegaly', 'Spiders'),\n",
       " ('Spiders', 'Edema'),\n",
       " ('Edema', 'Bilirubin'),\n",
       " ('Bilirubin', 'Cholesterol'),\n",
       " ('Cholesterol', 'Albumin'),\n",
       " ('Albumin', 'Copper'),\n",
       " ('Copper', 'Alk_Phos'),\n",
       " ('Alk_Phos', 'SGOT'),\n",
       " ('SGOT', 'Tryglicerides'),\n",
       " ('Tryglicerides', 'Platelets'),\n",
       " ('Platelets', 'Prothrombin'),\n",
       " ('Prothrombin', 'Stage'),\n",
       " ('Stage', 'Status')]"
      ]
     },
     "execution_count": 7,
     "metadata": {},
     "output_type": "execute_result"
    }
   ],
   "source": [
    "un"
   ]
  },
  {
   "cell_type": "code",
   "execution_count": 8,
   "id": "d0a991b4",
   "metadata": {
    "execution": {
     "iopub.execute_input": "2023-12-16T19:33:42.061569Z",
     "iopub.status.busy": "2023-12-16T19:33:42.061154Z",
     "iopub.status.idle": "2023-12-16T19:33:42.078354Z",
     "shell.execute_reply": "2023-12-16T19:33:42.077513Z"
    },
    "papermill": {
     "duration": 0.034665,
     "end_time": "2023-12-16T19:33:42.080753",
     "exception": false,
     "start_time": "2023-12-16T19:33:42.046088",
     "status": "completed"
    },
    "tags": []
   },
   "outputs": [],
   "source": [
    "data = pd.concat([data1,data2],axis=0)"
   ]
  },
  {
   "cell_type": "code",
   "execution_count": 9,
   "id": "f5d560c4",
   "metadata": {
    "execution": {
     "iopub.execute_input": "2023-12-16T19:33:42.109866Z",
     "iopub.status.busy": "2023-12-16T19:33:42.109204Z",
     "iopub.status.idle": "2023-12-16T19:33:42.122184Z",
     "shell.execute_reply": "2023-12-16T19:33:42.121092Z"
    },
    "papermill": {
     "duration": 0.029968,
     "end_time": "2023-12-16T19:33:42.124261",
     "exception": false,
     "start_time": "2023-12-16T19:33:42.094293",
     "status": "completed"
    },
    "tags": []
   },
   "outputs": [
    {
     "data": {
      "text/plain": [
       "ID               7905\n",
       "N_Days              0\n",
       "Status              0\n",
       "Drug              106\n",
       "Age                 0\n",
       "Sex                 0\n",
       "Ascites           106\n",
       "Hepatomegaly      106\n",
       "Spiders           106\n",
       "Edema               0\n",
       "Bilirubin           0\n",
       "Cholesterol       134\n",
       "Albumin             0\n",
       "Copper            108\n",
       "Alk_Phos          106\n",
       "SGOT              106\n",
       "Tryglicerides     136\n",
       "Platelets          11\n",
       "Prothrombin         2\n",
       "Stage               6\n",
       "id                418\n",
       "dtype: int64"
      ]
     },
     "execution_count": 9,
     "metadata": {},
     "output_type": "execute_result"
    }
   ],
   "source": [
    "data.isnull().sum()"
   ]
  },
  {
   "cell_type": "code",
   "execution_count": 10,
   "id": "7131f294",
   "metadata": {
    "execution": {
     "iopub.execute_input": "2023-12-16T19:33:42.153552Z",
     "iopub.status.busy": "2023-12-16T19:33:42.152921Z",
     "iopub.status.idle": "2023-12-16T19:33:42.161755Z",
     "shell.execute_reply": "2023-12-16T19:33:42.160699Z"
    },
    "papermill": {
     "duration": 0.025853,
     "end_time": "2023-12-16T19:33:42.163883",
     "exception": false,
     "start_time": "2023-12-16T19:33:42.138030",
     "status": "completed"
    },
    "tags": []
   },
   "outputs": [
    {
     "data": {
      "text/plain": [
       "0          NaN\n",
       "1          NaN\n",
       "2          NaN\n",
       "3          NaN\n",
       "4          NaN\n",
       "         ...  \n",
       "7900    7900.0\n",
       "7901    7901.0\n",
       "7902    7902.0\n",
       "7903    7903.0\n",
       "7904    7904.0\n",
       "Name: id, Length: 8323, dtype: float64"
      ]
     },
     "execution_count": 10,
     "metadata": {},
     "output_type": "execute_result"
    }
   ],
   "source": [
    "data['id']"
   ]
  },
  {
   "cell_type": "code",
   "execution_count": 11,
   "id": "6c51a16b",
   "metadata": {
    "execution": {
     "iopub.execute_input": "2023-12-16T19:33:42.192612Z",
     "iopub.status.busy": "2023-12-16T19:33:42.192201Z",
     "iopub.status.idle": "2023-12-16T19:33:42.199231Z",
     "shell.execute_reply": "2023-12-16T19:33:42.197996Z"
    },
    "papermill": {
     "duration": 0.024009,
     "end_time": "2023-12-16T19:33:42.201314",
     "exception": false,
     "start_time": "2023-12-16T19:33:42.177305",
     "status": "completed"
    },
    "tags": []
   },
   "outputs": [
    {
     "name": "stdout",
     "output_type": "stream",
     "text": [
      "ID\n",
      "N_Days\n",
      "Status\n",
      "Drug\n",
      "Age\n",
      "Sex\n",
      "Ascites\n",
      "Hepatomegaly\n",
      "Spiders\n",
      "Edema\n",
      "Bilirubin\n",
      "Cholesterol\n",
      "Albumin\n",
      "Copper\n",
      "Alk_Phos\n",
      "SGOT\n",
      "Tryglicerides\n",
      "Platelets\n",
      "Prothrombin\n",
      "Stage\n"
     ]
    }
   ],
   "source": [
    "cols = [x for x in data1.columns]\n",
    "for x in cols:\n",
    "    print(x)"
   ]
  },
  {
   "cell_type": "code",
   "execution_count": 12,
   "id": "3dcb882a",
   "metadata": {
    "execution": {
     "iopub.execute_input": "2023-12-16T19:33:42.292199Z",
     "iopub.status.busy": "2023-12-16T19:33:42.291793Z",
     "iopub.status.idle": "2023-12-16T19:33:42.303330Z",
     "shell.execute_reply": "2023-12-16T19:33:42.302558Z"
    },
    "papermill": {
     "duration": 0.029011,
     "end_time": "2023-12-16T19:33:42.305444",
     "exception": false,
     "start_time": "2023-12-16T19:33:42.276433",
     "status": "completed"
    },
    "tags": []
   },
   "outputs": [],
   "source": [
    "data = data.drop('ID',axis = 1)\n",
    "data = data.drop('id',axis = 1)\n",
    "cols.remove('ID')\n",
    "#cols.remove('id')"
   ]
  },
  {
   "cell_type": "code",
   "execution_count": 13,
   "id": "92b2688a",
   "metadata": {
    "execution": {
     "iopub.execute_input": "2023-12-16T19:33:42.336804Z",
     "iopub.status.busy": "2023-12-16T19:33:42.336384Z",
     "iopub.status.idle": "2023-12-16T19:33:42.342196Z",
     "shell.execute_reply": "2023-12-16T19:33:42.341419Z"
    },
    "papermill": {
     "duration": 0.024741,
     "end_time": "2023-12-16T19:33:42.344213",
     "exception": false,
     "start_time": "2023-12-16T19:33:42.319472",
     "status": "completed"
    },
    "tags": []
   },
   "outputs": [],
   "source": [
    "objectCols = []\n",
    "for i in cols: \n",
    "    if data[f'{i}'].dtype == object :\n",
    "        objectCols.append(i)"
   ]
  },
  {
   "cell_type": "code",
   "execution_count": 14,
   "id": "4e060ff8",
   "metadata": {
    "execution": {
     "iopub.execute_input": "2023-12-16T19:33:42.374203Z",
     "iopub.status.busy": "2023-12-16T19:33:42.373088Z",
     "iopub.status.idle": "2023-12-16T19:33:42.377482Z",
     "shell.execute_reply": "2023-12-16T19:33:42.376735Z"
    },
    "papermill": {
     "duration": 0.021293,
     "end_time": "2023-12-16T19:33:42.379450",
     "exception": false,
     "start_time": "2023-12-16T19:33:42.358157",
     "status": "completed"
    },
    "tags": []
   },
   "outputs": [],
   "source": [
    "objectCols.remove('Status')"
   ]
  },
  {
   "cell_type": "code",
   "execution_count": 15,
   "id": "e5eebf0f",
   "metadata": {
    "execution": {
     "iopub.execute_input": "2023-12-16T19:33:42.409690Z",
     "iopub.status.busy": "2023-12-16T19:33:42.408336Z",
     "iopub.status.idle": "2023-12-16T19:33:42.414126Z",
     "shell.execute_reply": "2023-12-16T19:33:42.412979Z"
    },
    "papermill": {
     "duration": 0.023213,
     "end_time": "2023-12-16T19:33:42.416442",
     "exception": false,
     "start_time": "2023-12-16T19:33:42.393229",
     "status": "completed"
    },
    "tags": []
   },
   "outputs": [],
   "source": [
    "from sklearn.preprocessing import OrdinalEncoder\n",
    "from sklearn.preprocessing import LabelEncoder\n",
    "encoder = OrdinalEncoder()\n",
    "labelencoder = LabelEncoder()"
   ]
  },
  {
   "cell_type": "code",
   "execution_count": 16,
   "id": "495e597b",
   "metadata": {
    "execution": {
     "iopub.execute_input": "2023-12-16T19:33:42.446519Z",
     "iopub.status.busy": "2023-12-16T19:33:42.446112Z",
     "iopub.status.idle": "2023-12-16T19:33:42.474183Z",
     "shell.execute_reply": "2023-12-16T19:33:42.473341Z"
    },
    "papermill": {
     "duration": 0.046145,
     "end_time": "2023-12-16T19:33:42.476546",
     "exception": false,
     "start_time": "2023-12-16T19:33:42.430401",
     "status": "completed"
    },
    "tags": []
   },
   "outputs": [],
   "source": [
    "encodedData = data.copy()\n",
    "encodedData[objectCols] = encoder.fit_transform(data[objectCols])\n",
    "encodedData['Status'] = labelencoder.fit_transform(data['Status'])"
   ]
  },
  {
   "cell_type": "code",
   "execution_count": 17,
   "id": "5f555d69",
   "metadata": {
    "execution": {
     "iopub.execute_input": "2023-12-16T19:33:42.506801Z",
     "iopub.status.busy": "2023-12-16T19:33:42.505750Z",
     "iopub.status.idle": "2023-12-16T19:33:42.516152Z",
     "shell.execute_reply": "2023-12-16T19:33:42.515431Z"
    },
    "papermill": {
     "duration": 0.027498,
     "end_time": "2023-12-16T19:33:42.518143",
     "exception": false,
     "start_time": "2023-12-16T19:33:42.490645",
     "status": "completed"
    },
    "tags": []
   },
   "outputs": [
    {
     "data": {
      "text/plain": [
       "Status\n",
       "0    5197\n",
       "2    2826\n",
       "1     300\n",
       "Name: count, dtype: int64"
      ]
     },
     "execution_count": 17,
     "metadata": {},
     "output_type": "execute_result"
    }
   ],
   "source": [
    "encodedData['Status'].value_counts()"
   ]
  },
  {
   "cell_type": "code",
   "execution_count": 18,
   "id": "bf163686",
   "metadata": {
    "execution": {
     "iopub.execute_input": "2023-12-16T19:33:42.549043Z",
     "iopub.status.busy": "2023-12-16T19:33:42.548085Z",
     "iopub.status.idle": "2023-12-16T19:33:42.557493Z",
     "shell.execute_reply": "2023-12-16T19:33:42.556708Z"
    },
    "papermill": {
     "duration": 0.02738,
     "end_time": "2023-12-16T19:33:42.559881",
     "exception": false,
     "start_time": "2023-12-16T19:33:42.532501",
     "status": "completed"
    },
    "tags": []
   },
   "outputs": [],
   "source": [
    "from sklearn.impute import SimpleImputer\n",
    "imputer = SimpleImputer()"
   ]
  },
  {
   "cell_type": "code",
   "execution_count": 19,
   "id": "404984e0",
   "metadata": {
    "execution": {
     "iopub.execute_input": "2023-12-16T19:33:42.590721Z",
     "iopub.status.busy": "2023-12-16T19:33:42.590292Z",
     "iopub.status.idle": "2023-12-16T19:33:42.603708Z",
     "shell.execute_reply": "2023-12-16T19:33:42.602652Z"
    },
    "papermill": {
     "duration": 0.031185,
     "end_time": "2023-12-16T19:33:42.606100",
     "exception": false,
     "start_time": "2023-12-16T19:33:42.574915",
     "status": "completed"
    },
    "tags": []
   },
   "outputs": [],
   "source": [
    "imputedData = pd.DataFrame(imputer.fit_transform(encodedData),columns = cols)"
   ]
  },
  {
   "cell_type": "code",
   "execution_count": 20,
   "id": "c9626325",
   "metadata": {
    "execution": {
     "iopub.execute_input": "2023-12-16T19:33:42.635921Z",
     "iopub.status.busy": "2023-12-16T19:33:42.635507Z",
     "iopub.status.idle": "2023-12-16T19:33:42.644381Z",
     "shell.execute_reply": "2023-12-16T19:33:42.643298Z"
    },
    "papermill": {
     "duration": 0.026784,
     "end_time": "2023-12-16T19:33:42.646966",
     "exception": false,
     "start_time": "2023-12-16T19:33:42.620182",
     "status": "completed"
    },
    "tags": []
   },
   "outputs": [
    {
     "data": {
      "text/plain": [
       "N_Days           0\n",
       "Status           0\n",
       "Drug             0\n",
       "Age              0\n",
       "Sex              0\n",
       "Ascites          0\n",
       "Hepatomegaly     0\n",
       "Spiders          0\n",
       "Edema            0\n",
       "Bilirubin        0\n",
       "Cholesterol      0\n",
       "Albumin          0\n",
       "Copper           0\n",
       "Alk_Phos         0\n",
       "SGOT             0\n",
       "Tryglicerides    0\n",
       "Platelets        0\n",
       "Prothrombin      0\n",
       "Stage            0\n",
       "dtype: int64"
      ]
     },
     "execution_count": 20,
     "metadata": {},
     "output_type": "execute_result"
    }
   ],
   "source": [
    "imputedData.isnull().sum()"
   ]
  },
  {
   "cell_type": "code",
   "execution_count": 21,
   "id": "c488763b",
   "metadata": {
    "execution": {
     "iopub.execute_input": "2023-12-16T19:33:42.678060Z",
     "iopub.status.busy": "2023-12-16T19:33:42.677637Z",
     "iopub.status.idle": "2023-12-16T19:33:42.682010Z",
     "shell.execute_reply": "2023-12-16T19:33:42.681131Z"
    },
    "papermill": {
     "duration": 0.0224,
     "end_time": "2023-12-16T19:33:42.684127",
     "exception": false,
     "start_time": "2023-12-16T19:33:42.661727",
     "status": "completed"
    },
    "tags": []
   },
   "outputs": [],
   "source": [
    "smoten = SMOTEN()"
   ]
  },
  {
   "cell_type": "code",
   "execution_count": 22,
   "id": "89f0e3eb",
   "metadata": {
    "execution": {
     "iopub.execute_input": "2023-12-16T19:33:42.715056Z",
     "iopub.status.busy": "2023-12-16T19:33:42.714073Z",
     "iopub.status.idle": "2023-12-16T19:33:42.720104Z",
     "shell.execute_reply": "2023-12-16T19:33:42.719333Z"
    },
    "papermill": {
     "duration": 0.023759,
     "end_time": "2023-12-16T19:33:42.722179",
     "exception": false,
     "start_time": "2023-12-16T19:33:42.698420",
     "status": "completed"
    },
    "tags": []
   },
   "outputs": [],
   "source": [
    "X = imputedData[cols]\n",
    "y = imputedData['Status']"
   ]
  },
  {
   "cell_type": "code",
   "execution_count": 23,
   "id": "1b18707d",
   "metadata": {
    "execution": {
     "iopub.execute_input": "2023-12-16T19:33:42.752188Z",
     "iopub.status.busy": "2023-12-16T19:33:42.751793Z",
     "iopub.status.idle": "2023-12-16T19:33:42.758896Z",
     "shell.execute_reply": "2023-12-16T19:33:42.757893Z"
    },
    "papermill": {
     "duration": 0.024628,
     "end_time": "2023-12-16T19:33:42.761098",
     "exception": false,
     "start_time": "2023-12-16T19:33:42.736470",
     "status": "completed"
    },
    "tags": []
   },
   "outputs": [],
   "source": [
    "X = X.drop('Status',axis = 1)"
   ]
  },
  {
   "cell_type": "code",
   "execution_count": 24,
   "id": "c72559f1",
   "metadata": {
    "execution": {
     "iopub.execute_input": "2023-12-16T19:33:42.791215Z",
     "iopub.status.busy": "2023-12-16T19:33:42.790826Z",
     "iopub.status.idle": "2023-12-16T19:33:42.797061Z",
     "shell.execute_reply": "2023-12-16T19:33:42.796094Z"
    },
    "papermill": {
     "duration": 0.02376,
     "end_time": "2023-12-16T19:33:42.799104",
     "exception": false,
     "start_time": "2023-12-16T19:33:42.775344",
     "status": "completed"
    },
    "tags": []
   },
   "outputs": [
    {
     "data": {
      "text/plain": [
       "(8323, 18)"
      ]
     },
     "execution_count": 24,
     "metadata": {},
     "output_type": "execute_result"
    }
   ],
   "source": [
    "X.shape"
   ]
  },
  {
   "cell_type": "code",
   "execution_count": 25,
   "id": "353a07a6",
   "metadata": {
    "execution": {
     "iopub.execute_input": "2023-12-16T19:33:42.829545Z",
     "iopub.status.busy": "2023-12-16T19:33:42.829091Z",
     "iopub.status.idle": "2023-12-16T19:33:42.837493Z",
     "shell.execute_reply": "2023-12-16T19:33:42.836446Z"
    },
    "papermill": {
     "duration": 0.026269,
     "end_time": "2023-12-16T19:33:42.839734",
     "exception": false,
     "start_time": "2023-12-16T19:33:42.813465",
     "status": "completed"
    },
    "tags": []
   },
   "outputs": [
    {
     "data": {
      "text/plain": [
       "Status\n",
       "0.0    5197\n",
       "2.0    2826\n",
       "1.0     300\n",
       "Name: count, dtype: int64"
      ]
     },
     "execution_count": 25,
     "metadata": {},
     "output_type": "execute_result"
    }
   ],
   "source": [
    "y.value_counts()"
   ]
  },
  {
   "cell_type": "code",
   "execution_count": 26,
   "id": "9fe08165",
   "metadata": {
    "execution": {
     "iopub.execute_input": "2023-12-16T19:33:42.870470Z",
     "iopub.status.busy": "2023-12-16T19:33:42.870082Z",
     "iopub.status.idle": "2023-12-16T19:33:56.832930Z",
     "shell.execute_reply": "2023-12-16T19:33:56.831883Z"
    },
    "papermill": {
     "duration": 13.981282,
     "end_time": "2023-12-16T19:33:56.835514",
     "exception": false,
     "start_time": "2023-12-16T19:33:42.854232",
     "status": "completed"
    },
    "tags": []
   },
   "outputs": [],
   "source": [
    "sData = smoten.fit_resample(X,y)"
   ]
  },
  {
   "cell_type": "code",
   "execution_count": 27,
   "id": "4fe223d9",
   "metadata": {
    "execution": {
     "iopub.execute_input": "2023-12-16T19:33:56.866901Z",
     "iopub.status.busy": "2023-12-16T19:33:56.866524Z",
     "iopub.status.idle": "2023-12-16T19:33:56.874573Z",
     "shell.execute_reply": "2023-12-16T19:33:56.873441Z"
    },
    "papermill": {
     "duration": 0.026461,
     "end_time": "2023-12-16T19:33:56.876981",
     "exception": false,
     "start_time": "2023-12-16T19:33:56.850520",
     "status": "completed"
    },
    "tags": []
   },
   "outputs": [
    {
     "data": {
      "text/plain": [
       "Status\n",
       "2.0    5197\n",
       "0.0    5197\n",
       "1.0    5197\n",
       "Name: count, dtype: int64"
      ]
     },
     "execution_count": 27,
     "metadata": {},
     "output_type": "execute_result"
    }
   ],
   "source": [
    "sData[1].value_counts()"
   ]
  },
  {
   "cell_type": "code",
   "execution_count": 28,
   "id": "3528f358",
   "metadata": {
    "execution": {
     "iopub.execute_input": "2023-12-16T19:33:56.908067Z",
     "iopub.status.busy": "2023-12-16T19:33:56.907668Z",
     "iopub.status.idle": "2023-12-16T19:33:56.912876Z",
     "shell.execute_reply": "2023-12-16T19:33:56.911837Z"
    },
    "papermill": {
     "duration": 0.023512,
     "end_time": "2023-12-16T19:33:56.915000",
     "exception": false,
     "start_time": "2023-12-16T19:33:56.891488",
     "status": "completed"
    },
    "tags": []
   },
   "outputs": [],
   "source": [
    "yn = to_categorical(sData[1])"
   ]
  },
  {
   "cell_type": "code",
   "execution_count": 29,
   "id": "75a8c069",
   "metadata": {
    "execution": {
     "iopub.execute_input": "2023-12-16T19:33:56.947348Z",
     "iopub.status.busy": "2023-12-16T19:33:56.946979Z",
     "iopub.status.idle": "2023-12-16T19:33:56.951904Z",
     "shell.execute_reply": "2023-12-16T19:33:56.951096Z"
    },
    "papermill": {
     "duration": 0.024342,
     "end_time": "2023-12-16T19:33:56.953847",
     "exception": false,
     "start_time": "2023-12-16T19:33:56.929505",
     "status": "completed"
    },
    "tags": []
   },
   "outputs": [],
   "source": [
    "yn = pd.DataFrame(yn,columns = ['Status_C','Status_CL','Status_D'])\n",
    "xn = sData[0]"
   ]
  },
  {
   "cell_type": "code",
   "execution_count": 30,
   "id": "2cdd5685",
   "metadata": {
    "execution": {
     "iopub.execute_input": "2023-12-16T19:33:56.985494Z",
     "iopub.status.busy": "2023-12-16T19:33:56.985070Z",
     "iopub.status.idle": "2023-12-16T19:33:56.997581Z",
     "shell.execute_reply": "2023-12-16T19:33:56.996558Z"
    },
    "papermill": {
     "duration": 0.030816,
     "end_time": "2023-12-16T19:33:56.999902",
     "exception": false,
     "start_time": "2023-12-16T19:33:56.969086",
     "status": "completed"
    },
    "tags": []
   },
   "outputs": [],
   "source": [
    "xntrain,xntest,yntrain,yntest = train_test_split(yn,xn,test_size = 0.2)"
   ]
  },
  {
   "cell_type": "code",
   "execution_count": 31,
   "id": "eabff329",
   "metadata": {
    "execution": {
     "iopub.execute_input": "2023-12-16T19:33:57.030315Z",
     "iopub.status.busy": "2023-12-16T19:33:57.029903Z",
     "iopub.status.idle": "2023-12-16T19:33:57.038153Z",
     "shell.execute_reply": "2023-12-16T19:33:57.037428Z"
    },
    "papermill": {
     "duration": 0.02573,
     "end_time": "2023-12-16T19:33:57.040121",
     "exception": false,
     "start_time": "2023-12-16T19:33:57.014391",
     "status": "completed"
    },
    "tags": []
   },
   "outputs": [],
   "source": [
    "newdatatrain = pd.concat([xntrain,yntrain],axis = 1)\n",
    "newdatatest = pd.concat([xntest,yntest],axis = 1)"
   ]
  },
  {
   "cell_type": "code",
   "execution_count": 32,
   "id": "cea8e90d",
   "metadata": {
    "execution": {
     "iopub.execute_input": "2023-12-16T19:33:57.071220Z",
     "iopub.status.busy": "2023-12-16T19:33:57.070806Z",
     "iopub.status.idle": "2023-12-16T19:33:57.087235Z",
     "shell.execute_reply": "2023-12-16T19:33:57.086150Z"
    },
    "papermill": {
     "duration": 0.034568,
     "end_time": "2023-12-16T19:33:57.089541",
     "exception": false,
     "start_time": "2023-12-16T19:33:57.054973",
     "status": "completed"
    },
    "tags": []
   },
   "outputs": [],
   "source": [
    "Dtrain = newdatatest.drop([\"Status_CL\",\"Status_C\"],axis =1)\n",
    "Ctrain = newdatatest.drop([\"Status_D\",\"Status_CL\"],axis =1)\n",
    "CLtrain = newdatatest.drop([\"Status_D\",\"Status_C\"],axis =1)\n",
    "Dtest = newdatatest.drop([\"Status_CL\",\"Status_C\"],axis =1)\n",
    "Ctest = newdatatest.drop([\"Status_D\",\"Status_CL\"],axis =1)\n",
    "CLtest = newdatatest.drop([\"Status_D\",\"Status_C\"],axis =1)"
   ]
  },
  {
   "cell_type": "code",
   "execution_count": 33,
   "id": "c3a9ab6b",
   "metadata": {
    "execution": {
     "iopub.execute_input": "2023-12-16T19:33:57.120344Z",
     "iopub.status.busy": "2023-12-16T19:33:57.119929Z",
     "iopub.status.idle": "2023-12-16T19:33:57.239148Z",
     "shell.execute_reply": "2023-12-16T19:33:57.238098Z"
    },
    "papermill": {
     "duration": 0.137592,
     "end_time": "2023-12-16T19:33:57.241611",
     "exception": false,
     "start_time": "2023-12-16T19:33:57.104019",
     "status": "completed"
    },
    "tags": []
   },
   "outputs": [
    {
     "data": {
      "text/plain": [
       "<_PrefetchDataset element_spec=({'N_Days': TensorSpec(shape=(None,), dtype=tf.float64, name=None), 'Drug': TensorSpec(shape=(None,), dtype=tf.float64, name=None), 'Age': TensorSpec(shape=(None,), dtype=tf.float64, name=None), 'Sex': TensorSpec(shape=(None,), dtype=tf.float64, name=None), 'Ascites': TensorSpec(shape=(None,), dtype=tf.float64, name=None), 'Hepatomegaly': TensorSpec(shape=(None,), dtype=tf.float64, name=None), 'Spiders': TensorSpec(shape=(None,), dtype=tf.float64, name=None), 'Edema': TensorSpec(shape=(None,), dtype=tf.float64, name=None), 'Bilirubin': TensorSpec(shape=(None,), dtype=tf.float64, name=None), 'Cholesterol': TensorSpec(shape=(None,), dtype=tf.float64, name=None), 'Albumin': TensorSpec(shape=(None,), dtype=tf.float64, name=None), 'Copper': TensorSpec(shape=(None,), dtype=tf.float64, name=None), 'Alk_Phos': TensorSpec(shape=(None,), dtype=tf.float64, name=None), 'SGOT': TensorSpec(shape=(None,), dtype=tf.float64, name=None), 'Tryglicerides': TensorSpec(shape=(None,), dtype=tf.float64, name=None), 'Platelets': TensorSpec(shape=(None,), dtype=tf.float64, name=None), 'Prothrombin': TensorSpec(shape=(None,), dtype=tf.float64, name=None), 'Stage': TensorSpec(shape=(None,), dtype=tf.float64, name=None)}, TensorSpec(shape=(None,), dtype=tf.float32, name=None))>"
      ]
     },
     "execution_count": 33,
     "metadata": {},
     "output_type": "execute_result"
    }
   ],
   "source": [
    "tf_dataset_D_train = tfdf.keras.pd_dataframe_to_tf_dataset(Dtrain,label = 'Status_D')\n",
    "tf_dataset_D_train"
   ]
  },
  {
   "cell_type": "code",
   "execution_count": 34,
   "id": "132168b3",
   "metadata": {
    "execution": {
     "iopub.execute_input": "2023-12-16T19:33:57.272896Z",
     "iopub.status.busy": "2023-12-16T19:33:57.272494Z",
     "iopub.status.idle": "2023-12-16T19:33:57.309449Z",
     "shell.execute_reply": "2023-12-16T19:33:57.308340Z"
    },
    "papermill": {
     "duration": 0.055372,
     "end_time": "2023-12-16T19:33:57.311617",
     "exception": false,
     "start_time": "2023-12-16T19:33:57.256245",
     "status": "completed"
    },
    "tags": []
   },
   "outputs": [
    {
     "data": {
      "text/plain": [
       "<_PrefetchDataset element_spec=({'N_Days': TensorSpec(shape=(None,), dtype=tf.float64, name=None), 'Drug': TensorSpec(shape=(None,), dtype=tf.float64, name=None), 'Age': TensorSpec(shape=(None,), dtype=tf.float64, name=None), 'Sex': TensorSpec(shape=(None,), dtype=tf.float64, name=None), 'Ascites': TensorSpec(shape=(None,), dtype=tf.float64, name=None), 'Hepatomegaly': TensorSpec(shape=(None,), dtype=tf.float64, name=None), 'Spiders': TensorSpec(shape=(None,), dtype=tf.float64, name=None), 'Edema': TensorSpec(shape=(None,), dtype=tf.float64, name=None), 'Bilirubin': TensorSpec(shape=(None,), dtype=tf.float64, name=None), 'Cholesterol': TensorSpec(shape=(None,), dtype=tf.float64, name=None), 'Albumin': TensorSpec(shape=(None,), dtype=tf.float64, name=None), 'Copper': TensorSpec(shape=(None,), dtype=tf.float64, name=None), 'Alk_Phos': TensorSpec(shape=(None,), dtype=tf.float64, name=None), 'SGOT': TensorSpec(shape=(None,), dtype=tf.float64, name=None), 'Tryglicerides': TensorSpec(shape=(None,), dtype=tf.float64, name=None), 'Platelets': TensorSpec(shape=(None,), dtype=tf.float64, name=None), 'Prothrombin': TensorSpec(shape=(None,), dtype=tf.float64, name=None), 'Stage': TensorSpec(shape=(None,), dtype=tf.float64, name=None)}, TensorSpec(shape=(None,), dtype=tf.float32, name=None))>"
      ]
     },
     "execution_count": 34,
     "metadata": {},
     "output_type": "execute_result"
    }
   ],
   "source": [
    "tf_dataset_D_test = tfdf.keras.pd_dataframe_to_tf_dataset(Dtest,label = 'Status_D')\n",
    "tf_dataset_D_test"
   ]
  },
  {
   "cell_type": "code",
   "execution_count": 35,
   "id": "d7212adf",
   "metadata": {
    "execution": {
     "iopub.execute_input": "2023-12-16T19:33:57.342935Z",
     "iopub.status.busy": "2023-12-16T19:33:57.342553Z",
     "iopub.status.idle": "2023-12-16T19:33:57.379173Z",
     "shell.execute_reply": "2023-12-16T19:33:57.378419Z"
    },
    "papermill": {
     "duration": 0.055037,
     "end_time": "2023-12-16T19:33:57.381265",
     "exception": false,
     "start_time": "2023-12-16T19:33:57.326228",
     "status": "completed"
    },
    "tags": []
   },
   "outputs": [
    {
     "data": {
      "text/plain": [
       "<_PrefetchDataset element_spec=({'N_Days': TensorSpec(shape=(None,), dtype=tf.float64, name=None), 'Drug': TensorSpec(shape=(None,), dtype=tf.float64, name=None), 'Age': TensorSpec(shape=(None,), dtype=tf.float64, name=None), 'Sex': TensorSpec(shape=(None,), dtype=tf.float64, name=None), 'Ascites': TensorSpec(shape=(None,), dtype=tf.float64, name=None), 'Hepatomegaly': TensorSpec(shape=(None,), dtype=tf.float64, name=None), 'Spiders': TensorSpec(shape=(None,), dtype=tf.float64, name=None), 'Edema': TensorSpec(shape=(None,), dtype=tf.float64, name=None), 'Bilirubin': TensorSpec(shape=(None,), dtype=tf.float64, name=None), 'Cholesterol': TensorSpec(shape=(None,), dtype=tf.float64, name=None), 'Albumin': TensorSpec(shape=(None,), dtype=tf.float64, name=None), 'Copper': TensorSpec(shape=(None,), dtype=tf.float64, name=None), 'Alk_Phos': TensorSpec(shape=(None,), dtype=tf.float64, name=None), 'SGOT': TensorSpec(shape=(None,), dtype=tf.float64, name=None), 'Tryglicerides': TensorSpec(shape=(None,), dtype=tf.float64, name=None), 'Platelets': TensorSpec(shape=(None,), dtype=tf.float64, name=None), 'Prothrombin': TensorSpec(shape=(None,), dtype=tf.float64, name=None), 'Stage': TensorSpec(shape=(None,), dtype=tf.float64, name=None)}, TensorSpec(shape=(None,), dtype=tf.float32, name=None))>"
      ]
     },
     "execution_count": 35,
     "metadata": {},
     "output_type": "execute_result"
    }
   ],
   "source": [
    "tf_dataset_C_train = tfdf.keras.pd_dataframe_to_tf_dataset(Ctrain,label = 'Status_C')\n",
    "tf_dataset_C_train"
   ]
  },
  {
   "cell_type": "code",
   "execution_count": 36,
   "id": "897f845e",
   "metadata": {
    "execution": {
     "iopub.execute_input": "2023-12-16T19:33:57.412931Z",
     "iopub.status.busy": "2023-12-16T19:33:57.411997Z",
     "iopub.status.idle": "2023-12-16T19:33:57.449401Z",
     "shell.execute_reply": "2023-12-16T19:33:57.448306Z"
    },
    "papermill": {
     "duration": 0.055746,
     "end_time": "2023-12-16T19:33:57.451890",
     "exception": false,
     "start_time": "2023-12-16T19:33:57.396144",
     "status": "completed"
    },
    "tags": []
   },
   "outputs": [
    {
     "data": {
      "text/plain": [
       "<_PrefetchDataset element_spec=({'N_Days': TensorSpec(shape=(None,), dtype=tf.float64, name=None), 'Drug': TensorSpec(shape=(None,), dtype=tf.float64, name=None), 'Age': TensorSpec(shape=(None,), dtype=tf.float64, name=None), 'Sex': TensorSpec(shape=(None,), dtype=tf.float64, name=None), 'Ascites': TensorSpec(shape=(None,), dtype=tf.float64, name=None), 'Hepatomegaly': TensorSpec(shape=(None,), dtype=tf.float64, name=None), 'Spiders': TensorSpec(shape=(None,), dtype=tf.float64, name=None), 'Edema': TensorSpec(shape=(None,), dtype=tf.float64, name=None), 'Bilirubin': TensorSpec(shape=(None,), dtype=tf.float64, name=None), 'Cholesterol': TensorSpec(shape=(None,), dtype=tf.float64, name=None), 'Albumin': TensorSpec(shape=(None,), dtype=tf.float64, name=None), 'Copper': TensorSpec(shape=(None,), dtype=tf.float64, name=None), 'Alk_Phos': TensorSpec(shape=(None,), dtype=tf.float64, name=None), 'SGOT': TensorSpec(shape=(None,), dtype=tf.float64, name=None), 'Tryglicerides': TensorSpec(shape=(None,), dtype=tf.float64, name=None), 'Platelets': TensorSpec(shape=(None,), dtype=tf.float64, name=None), 'Prothrombin': TensorSpec(shape=(None,), dtype=tf.float64, name=None), 'Stage': TensorSpec(shape=(None,), dtype=tf.float64, name=None)}, TensorSpec(shape=(None,), dtype=tf.float32, name=None))>"
      ]
     },
     "execution_count": 36,
     "metadata": {},
     "output_type": "execute_result"
    }
   ],
   "source": [
    "tf_dataset_C_test = tfdf.keras.pd_dataframe_to_tf_dataset(Ctest,label = 'Status_C')\n",
    "tf_dataset_C_test"
   ]
  },
  {
   "cell_type": "code",
   "execution_count": 37,
   "id": "b3b6baaa",
   "metadata": {
    "execution": {
     "iopub.execute_input": "2023-12-16T19:33:57.483807Z",
     "iopub.status.busy": "2023-12-16T19:33:57.483356Z",
     "iopub.status.idle": "2023-12-16T19:33:57.520437Z",
     "shell.execute_reply": "2023-12-16T19:33:57.519338Z"
    },
    "papermill": {
     "duration": 0.055554,
     "end_time": "2023-12-16T19:33:57.522807",
     "exception": false,
     "start_time": "2023-12-16T19:33:57.467253",
     "status": "completed"
    },
    "tags": []
   },
   "outputs": [
    {
     "data": {
      "text/plain": [
       "<_PrefetchDataset element_spec=({'N_Days': TensorSpec(shape=(None,), dtype=tf.float64, name=None), 'Drug': TensorSpec(shape=(None,), dtype=tf.float64, name=None), 'Age': TensorSpec(shape=(None,), dtype=tf.float64, name=None), 'Sex': TensorSpec(shape=(None,), dtype=tf.float64, name=None), 'Ascites': TensorSpec(shape=(None,), dtype=tf.float64, name=None), 'Hepatomegaly': TensorSpec(shape=(None,), dtype=tf.float64, name=None), 'Spiders': TensorSpec(shape=(None,), dtype=tf.float64, name=None), 'Edema': TensorSpec(shape=(None,), dtype=tf.float64, name=None), 'Bilirubin': TensorSpec(shape=(None,), dtype=tf.float64, name=None), 'Cholesterol': TensorSpec(shape=(None,), dtype=tf.float64, name=None), 'Albumin': TensorSpec(shape=(None,), dtype=tf.float64, name=None), 'Copper': TensorSpec(shape=(None,), dtype=tf.float64, name=None), 'Alk_Phos': TensorSpec(shape=(None,), dtype=tf.float64, name=None), 'SGOT': TensorSpec(shape=(None,), dtype=tf.float64, name=None), 'Tryglicerides': TensorSpec(shape=(None,), dtype=tf.float64, name=None), 'Platelets': TensorSpec(shape=(None,), dtype=tf.float64, name=None), 'Prothrombin': TensorSpec(shape=(None,), dtype=tf.float64, name=None), 'Stage': TensorSpec(shape=(None,), dtype=tf.float64, name=None)}, TensorSpec(shape=(None,), dtype=tf.float32, name=None))>"
      ]
     },
     "execution_count": 37,
     "metadata": {},
     "output_type": "execute_result"
    }
   ],
   "source": [
    "tf_dataset_CL_train = tfdf.keras.pd_dataframe_to_tf_dataset(CLtrain,label = 'Status_CL')\n",
    "tf_dataset_CL_train"
   ]
  },
  {
   "cell_type": "code",
   "execution_count": 38,
   "id": "9d7db12f",
   "metadata": {
    "execution": {
     "iopub.execute_input": "2023-12-16T19:33:57.554715Z",
     "iopub.status.busy": "2023-12-16T19:33:57.554306Z",
     "iopub.status.idle": "2023-12-16T19:33:57.591344Z",
     "shell.execute_reply": "2023-12-16T19:33:57.590337Z"
    },
    "papermill": {
     "duration": 0.055664,
     "end_time": "2023-12-16T19:33:57.593483",
     "exception": false,
     "start_time": "2023-12-16T19:33:57.537819",
     "status": "completed"
    },
    "tags": []
   },
   "outputs": [
    {
     "data": {
      "text/plain": [
       "<_PrefetchDataset element_spec=({'N_Days': TensorSpec(shape=(None,), dtype=tf.float64, name=None), 'Drug': TensorSpec(shape=(None,), dtype=tf.float64, name=None), 'Age': TensorSpec(shape=(None,), dtype=tf.float64, name=None), 'Sex': TensorSpec(shape=(None,), dtype=tf.float64, name=None), 'Ascites': TensorSpec(shape=(None,), dtype=tf.float64, name=None), 'Hepatomegaly': TensorSpec(shape=(None,), dtype=tf.float64, name=None), 'Spiders': TensorSpec(shape=(None,), dtype=tf.float64, name=None), 'Edema': TensorSpec(shape=(None,), dtype=tf.float64, name=None), 'Bilirubin': TensorSpec(shape=(None,), dtype=tf.float64, name=None), 'Cholesterol': TensorSpec(shape=(None,), dtype=tf.float64, name=None), 'Albumin': TensorSpec(shape=(None,), dtype=tf.float64, name=None), 'Copper': TensorSpec(shape=(None,), dtype=tf.float64, name=None), 'Alk_Phos': TensorSpec(shape=(None,), dtype=tf.float64, name=None), 'SGOT': TensorSpec(shape=(None,), dtype=tf.float64, name=None), 'Tryglicerides': TensorSpec(shape=(None,), dtype=tf.float64, name=None), 'Platelets': TensorSpec(shape=(None,), dtype=tf.float64, name=None), 'Prothrombin': TensorSpec(shape=(None,), dtype=tf.float64, name=None), 'Stage': TensorSpec(shape=(None,), dtype=tf.float64, name=None)}, TensorSpec(shape=(None,), dtype=tf.float32, name=None))>"
      ]
     },
     "execution_count": 38,
     "metadata": {},
     "output_type": "execute_result"
    }
   ],
   "source": [
    "tf_dataset_CL_test = tfdf.keras.pd_dataframe_to_tf_dataset(CLtest,label = 'Status_CL')\n",
    "tf_dataset_CL_test"
   ]
  },
  {
   "cell_type": "code",
   "execution_count": 39,
   "id": "03fa16a9",
   "metadata": {
    "execution": {
     "iopub.execute_input": "2023-12-16T19:33:57.625939Z",
     "iopub.status.busy": "2023-12-16T19:33:57.624995Z",
     "iopub.status.idle": "2023-12-16T19:33:57.636936Z",
     "shell.execute_reply": "2023-12-16T19:33:57.635935Z"
    },
    "papermill": {
     "duration": 0.030564,
     "end_time": "2023-12-16T19:33:57.639076",
     "exception": false,
     "start_time": "2023-12-16T19:33:57.608512",
     "status": "completed"
    },
    "tags": []
   },
   "outputs": [
    {
     "data": {
      "text/plain": [
       "<tensorflow_decision_forests.component.tuner.tuner.SearchSpace at 0x7ab0abe4b430>"
      ]
     },
     "execution_count": 39,
     "metadata": {},
     "output_type": "execute_result"
    }
   ],
   "source": [
    "# Configure the tuner.\n",
    "\n",
    "# Create a Random Search tuner with 50 trials.\n",
    "tuner = tfdf.tuner.RandomSearch(num_trials=50)\n",
    "\n",
    "# Define the search space.\n",
    "#\n",
    "# Adding more parameters generaly improve the quality of the model, but make\n",
    "# the tuning last longer.\n",
    "\n",
    "tuner.choice(\"min_examples\", [2, 5, 7, 10])\n",
    "tuner.choice(\"categorical_algorithm\", [\"CART\", \"RANDOM\"])\n",
    "\n",
    "# Some hyper-parameters are only valid for specific values of other\n",
    "# hyper-parameters. For example, the \"max_depth\" parameter is mostly useful when\n",
    "# \"growing_strategy=LOCAL\" while \"max_num_nodes\" is better suited when\n",
    "# \"growing_strategy=BEST_FIRST_GLOBAL\".\n",
    "\n",
    "local_search_space = tuner.choice(\"growing_strategy\", [\"LOCAL\"])\n",
    "local_search_space.choice(\"max_depth\", [3, 4, 5, 6, 8])\n",
    "\n",
    "# merge=True indicates that the parameter (here \"growing_strategy\") is already\n",
    "# defined, and that new values are added to it.\n",
    "global_search_space = tuner.choice(\"growing_strategy\", [\"BEST_FIRST_GLOBAL\"], merge=True)\n",
    "global_search_space.choice(\"max_num_nodes\", [16, 32, 64, 128, 256])\n",
    "\n",
    "tuner.choice(\"use_hessian_gain\", [True, False])\n",
    "tuner.choice(\"shrinkage\", [0.02, 0.05, 0.10, 0.15])\n",
    "tuner.choice(\"num_candidate_attributes_ratio\", [0.2, 0.5, 0.9, 1.0])\n",
    "\n",
    "# Uncomment some (or all) of the following hyper-parameters to increase the\n",
    "# quality of the search. The number of trial should be increased accordingly.\n",
    "\n",
    "tuner.choice(\"split_axis\", [\"AXIS_ALIGNED\"])\n",
    "oblique_space = tuner.choice(\"split_axis\", [\"SPARSE_OBLIQUE\"], merge=True)\n",
    "oblique_space.choice(\"sparse_oblique_normalization\",\n",
    "                      [\"NONE\", \"STANDARD_DEVIATION\", \"MIN_MAX\"])\n",
    "oblique_space.choice(\"sparse_oblique_weights\", [\"BINARY\", \"CONTINUOUS\"])\n",
    "oblique_space.choice(\"sparse_oblique_num_projections_exponent\", [1.0, 1.5])"
   ]
  },
  {
   "cell_type": "code",
   "execution_count": 40,
   "id": "1373c808",
   "metadata": {
    "execution": {
     "iopub.execute_input": "2023-12-16T19:33:57.671768Z",
     "iopub.status.busy": "2023-12-16T19:33:57.671010Z",
     "iopub.status.idle": "2023-12-16T19:40:56.104328Z",
     "shell.execute_reply": "2023-12-16T19:40:56.103176Z"
    },
    "papermill": {
     "duration": 418.452384,
     "end_time": "2023-12-16T19:40:56.106834",
     "exception": false,
     "start_time": "2023-12-16T19:33:57.654450",
     "status": "completed"
    },
    "tags": []
   },
   "outputs": [
    {
     "name": "stdout",
     "output_type": "stream",
     "text": [
      "Use /tmp/tmpfic7tma6 as temporary training directory\n"
     ]
    },
    {
     "name": "stderr",
     "output_type": "stream",
     "text": [
      "[WARNING 23-12-16 19:33:57.7227 UTC gradient_boosted_trees.cc:1818] \"goss_alpha\" set but \"sampling_method\" not equal to \"GOSS\".\n",
      "[WARNING 23-12-16 19:33:57.7228 UTC gradient_boosted_trees.cc:1829] \"goss_beta\" set but \"sampling_method\" not equal to \"GOSS\".\n",
      "[WARNING 23-12-16 19:33:57.7228 UTC gradient_boosted_trees.cc:1843] \"selective_gradient_boosting_ratio\" set but \"sampling_method\" not equal to \"SELGB\".\n",
      "[INFO 23-12-16 19:36:22.8486 UTC kernel.cc:1243] Loading model from path /tmp/tmpfic7tma6/model/ with prefix 8e88b67f988f421e\n",
      "[INFO 23-12-16 19:36:22.9207 UTC decision_forest.cc:660] Model loaded with 155 root(s), 19507 node(s), and 18 input feature(s).\n",
      "[INFO 23-12-16 19:36:22.9209 UTC abstract_model.cc:1311] Engine \"GradientBoostedTreesOptPred\" built\n",
      "[INFO 23-12-16 19:36:22.9210 UTC kernel.cc:1075] Use fast generic engine\n"
     ]
    },
    {
     "name": "stdout",
     "output_type": "stream",
     "text": [
      "WARNING: AutoGraph could not transform <function simple_ml_inference_op_with_handle at 0x7ab0abe45b40> and will run it as-is.\n",
      "Please report this to the TensorFlow team. When filing the bug, set the verbosity to 10 (on Linux, `export AUTOGRAPH_VERBOSITY=10`) and attach the full output.\n",
      "Cause: could not get source code\n",
      "To silence this warning, decorate the function with @tf.autograph.experimental.do_not_convert\n",
      "Use /tmp/tmpt19rngg9 as temporary training directory\n"
     ]
    },
    {
     "name": "stderr",
     "output_type": "stream",
     "text": [
      "[WARNING 23-12-16 19:36:25.1628 UTC gradient_boosted_trees.cc:1818] \"goss_alpha\" set but \"sampling_method\" not equal to \"GOSS\".\n",
      "[WARNING 23-12-16 19:36:25.1629 UTC gradient_boosted_trees.cc:1829] \"goss_beta\" set but \"sampling_method\" not equal to \"GOSS\".\n",
      "[WARNING 23-12-16 19:36:25.1629 UTC gradient_boosted_trees.cc:1843] \"selective_gradient_boosting_ratio\" set but \"sampling_method\" not equal to \"SELGB\".\n",
      "[INFO 23-12-16 19:38:28.4387 UTC kernel.cc:1243] Loading model from path /tmp/tmpt19rngg9/model/ with prefix 5c68299e88a84483\n",
      "[INFO 23-12-16 19:38:28.4546 UTC decision_forest.cc:660] Model loaded with 50 root(s), 3500 node(s), and 18 input feature(s).\n",
      "[INFO 23-12-16 19:38:28.4546 UTC abstract_model.cc:1311] Engine \"GradientBoostedTreesGeneric\" built\n",
      "[INFO 23-12-16 19:38:28.4546 UTC kernel.cc:1075] Use fast generic engine\n"
     ]
    },
    {
     "name": "stdout",
     "output_type": "stream",
     "text": [
      "Use /tmp/tmpw4rixu1j as temporary training directory\n"
     ]
    },
    {
     "name": "stderr",
     "output_type": "stream",
     "text": [
      "[WARNING 23-12-16 19:38:29.0000 UTC gradient_boosted_trees.cc:1818] \"goss_alpha\" set but \"sampling_method\" not equal to \"GOSS\".\n",
      "[WARNING 23-12-16 19:38:29.0000 UTC gradient_boosted_trees.cc:1829] \"goss_beta\" set but \"sampling_method\" not equal to \"GOSS\".\n",
      "[WARNING 23-12-16 19:38:29.0000 UTC gradient_boosted_trees.cc:1843] \"selective_gradient_boosting_ratio\" set but \"sampling_method\" not equal to \"SELGB\".\n",
      "[INFO 23-12-16 19:40:55.8191 UTC kernel.cc:1243] Loading model from path /tmp/tmpw4rixu1j/model/ with prefix 9a67e2c82d204116\n",
      "[INFO 23-12-16 19:40:55.8358 UTC decision_forest.cc:660] Model loaded with 262 root(s), 3814 node(s), and 18 input feature(s).\n",
      "[INFO 23-12-16 19:40:55.8360 UTC abstract_model.cc:1311] Engine \"GradientBoostedTreesGeneric\" built\n",
      "[INFO 23-12-16 19:40:55.8361 UTC kernel.cc:1075] Use fast generic engine\n"
     ]
    },
    {
     "data": {
      "text/plain": [
       "<keras.src.callbacks.History at 0x7ab076f19330>"
      ]
     },
     "execution_count": 40,
     "metadata": {},
     "output_type": "execute_result"
    }
   ],
   "source": [
    "\n",
    "\n",
    "# Tune the model. Notice the `tuner=tuner`.\n",
    "tuned_modelD = tfdf.keras.GradientBoostedTreesModel(tuner=tuner)\n",
    "tuned_modelD.fit(tf_dataset_D_train, verbose=0)\n",
    "\n",
    "tuned_modelC = tfdf.keras.GradientBoostedTreesModel(tuner=tuner)\n",
    "tuned_modelC.fit(tf_dataset_C_train, verbose=0)\n",
    "\n",
    "tuned_modelCL = tfdf.keras.GradientBoostedTreesModel(tuner=tuner)\n",
    "tuned_modelCL.fit(tf_dataset_CL_train, verbose=0)\n",
    "\n",
    "# The `num_threads` model constructor argument (not specified in the example\n",
    "# above) controls how many trials are run in parallel (one per thread). If\n",
    "# `num_threads` is not specified (like in the example above), one thread is\n",
    "# allocated for each available CPU core.\n",
    "#\n",
    "# If the training is interrupted (for example, by pressing on the \"stop\" button\n",
    "# on the top-left of the colab cell), the best model so-far will be returned.\n",
    "\n",
    "# In the training logs, you can see lines such as `[10/50] Score: -0.45 / -0.40\n",
    "# HParams: ...`. This indicates that 10 of the 50 trials have been completed.\n",
    "# And that the last trial returned a score of \"-0.45\" and that the best trial so\n",
    "# far has a score of \"-0.40\". In this example, the model is optimized by\n",
    "# logloss. Since scores are maximized and log loss should be minimized, the\n",
    "# score is effectively minus the log loss."
   ]
  },
  {
   "cell_type": "code",
   "execution_count": 41,
   "id": "965bf961",
   "metadata": {
    "execution": {
     "iopub.execute_input": "2023-12-16T19:40:56.141662Z",
     "iopub.status.busy": "2023-12-16T19:40:56.140558Z",
     "iopub.status.idle": "2023-12-16T19:40:56.659113Z",
     "shell.execute_reply": "2023-12-16T19:40:56.657793Z"
    },
    "papermill": {
     "duration": 0.538433,
     "end_time": "2023-12-16T19:40:56.661514",
     "exception": false,
     "start_time": "2023-12-16T19:40:56.123081",
     "status": "completed"
    },
    "tags": []
   },
   "outputs": [
    {
     "name": "stdout",
     "output_type": "stream",
     "text": [
      "Test accuracy with the TF-DF hyper-parameter tuner: 0.9885\n"
     ]
    }
   ],
   "source": [
    "# Evaluate the model\n",
    "tuned_modelD.compile([\"accuracy\"])\n",
    "tuned_test_accuracyD = tuned_modelD.evaluate(tf_dataset_D_test, return_dict=True, verbose=0)[\"accuracy\"]\n",
    "print(f\"Test accuracy with the TF-DF hyper-parameter tuner: {tuned_test_accuracyD:.4f}\")"
   ]
  },
  {
   "cell_type": "code",
   "execution_count": 42,
   "id": "88e38699",
   "metadata": {
    "execution": {
     "iopub.execute_input": "2023-12-16T19:40:56.696790Z",
     "iopub.status.busy": "2023-12-16T19:40:56.696352Z",
     "iopub.status.idle": "2023-12-16T19:40:56.728214Z",
     "shell.execute_reply": "2023-12-16T19:40:56.727034Z"
    },
    "papermill": {
     "duration": 0.052139,
     "end_time": "2023-12-16T19:40:56.730717",
     "exception": false,
     "start_time": "2023-12-16T19:40:56.678578",
     "status": "completed"
    },
    "tags": []
   },
   "outputs": [
    {
     "data": {
      "text/html": [
       "<div>\n",
       "<style scoped>\n",
       "    .dataframe tbody tr th:only-of-type {\n",
       "        vertical-align: middle;\n",
       "    }\n",
       "\n",
       "    .dataframe tbody tr th {\n",
       "        vertical-align: top;\n",
       "    }\n",
       "\n",
       "    .dataframe thead th {\n",
       "        text-align: right;\n",
       "    }\n",
       "</style>\n",
       "<table border=\"1\" class=\"dataframe\">\n",
       "  <thead>\n",
       "    <tr style=\"text-align: right;\">\n",
       "      <th></th>\n",
       "      <th>score</th>\n",
       "      <th>evaluation_time</th>\n",
       "      <th>best</th>\n",
       "      <th>min_examples</th>\n",
       "      <th>categorical_algorithm</th>\n",
       "      <th>growing_strategy</th>\n",
       "      <th>max_num_nodes</th>\n",
       "      <th>use_hessian_gain</th>\n",
       "      <th>shrinkage</th>\n",
       "      <th>num_candidate_attributes_ratio</th>\n",
       "      <th>split_axis</th>\n",
       "      <th>sparse_oblique_normalization</th>\n",
       "      <th>sparse_oblique_weights</th>\n",
       "      <th>sparse_oblique_num_projections_exponent</th>\n",
       "      <th>max_depth</th>\n",
       "    </tr>\n",
       "  </thead>\n",
       "  <tbody>\n",
       "    <tr>\n",
       "      <th>0</th>\n",
       "      <td>-0.555680</td>\n",
       "      <td>6.618319</td>\n",
       "      <td>False</td>\n",
       "      <td>2</td>\n",
       "      <td>RANDOM</td>\n",
       "      <td>BEST_FIRST_GLOBAL</td>\n",
       "      <td>16.0</td>\n",
       "      <td>false</td>\n",
       "      <td>0.05</td>\n",
       "      <td>0.9</td>\n",
       "      <td>SPARSE_OBLIQUE</td>\n",
       "      <td>NONE</td>\n",
       "      <td>BINARY</td>\n",
       "      <td>1.0</td>\n",
       "      <td>NaN</td>\n",
       "    </tr>\n",
       "    <tr>\n",
       "      <th>1</th>\n",
       "      <td>-0.575366</td>\n",
       "      <td>7.773613</td>\n",
       "      <td>False</td>\n",
       "      <td>10</td>\n",
       "      <td>CART</td>\n",
       "      <td>BEST_FIRST_GLOBAL</td>\n",
       "      <td>32.0</td>\n",
       "      <td>true</td>\n",
       "      <td>0.02</td>\n",
       "      <td>0.9</td>\n",
       "      <td>SPARSE_OBLIQUE</td>\n",
       "      <td>STANDARD_DEVIATION</td>\n",
       "      <td>CONTINUOUS</td>\n",
       "      <td>1.0</td>\n",
       "      <td>NaN</td>\n",
       "    </tr>\n",
       "    <tr>\n",
       "      <th>2</th>\n",
       "      <td>-0.564478</td>\n",
       "      <td>8.790456</td>\n",
       "      <td>False</td>\n",
       "      <td>5</td>\n",
       "      <td>CART</td>\n",
       "      <td>LOCAL</td>\n",
       "      <td>NaN</td>\n",
       "      <td>false</td>\n",
       "      <td>0.15</td>\n",
       "      <td>0.9</td>\n",
       "      <td>AXIS_ALIGNED</td>\n",
       "      <td>NaN</td>\n",
       "      <td>NaN</td>\n",
       "      <td>NaN</td>\n",
       "      <td>6.0</td>\n",
       "    </tr>\n",
       "    <tr>\n",
       "      <th>3</th>\n",
       "      <td>-0.544807</td>\n",
       "      <td>10.288021</td>\n",
       "      <td>False</td>\n",
       "      <td>7</td>\n",
       "      <td>RANDOM</td>\n",
       "      <td>LOCAL</td>\n",
       "      <td>NaN</td>\n",
       "      <td>false</td>\n",
       "      <td>0.15</td>\n",
       "      <td>1.0</td>\n",
       "      <td>AXIS_ALIGNED</td>\n",
       "      <td>NaN</td>\n",
       "      <td>NaN</td>\n",
       "      <td>NaN</td>\n",
       "      <td>6.0</td>\n",
       "    </tr>\n",
       "    <tr>\n",
       "      <th>4</th>\n",
       "      <td>-0.577805</td>\n",
       "      <td>10.704660</td>\n",
       "      <td>False</td>\n",
       "      <td>2</td>\n",
       "      <td>RANDOM</td>\n",
       "      <td>BEST_FIRST_GLOBAL</td>\n",
       "      <td>32.0</td>\n",
       "      <td>true</td>\n",
       "      <td>0.10</td>\n",
       "      <td>0.2</td>\n",
       "      <td>SPARSE_OBLIQUE</td>\n",
       "      <td>MIN_MAX</td>\n",
       "      <td>CONTINUOUS</td>\n",
       "      <td>1.5</td>\n",
       "      <td>NaN</td>\n",
       "    </tr>\n",
       "  </tbody>\n",
       "</table>\n",
       "</div>"
      ],
      "text/plain": [
       "      score  evaluation_time   best  min_examples categorical_algorithm  \\\n",
       "0 -0.555680         6.618319  False             2                RANDOM   \n",
       "1 -0.575366         7.773613  False            10                  CART   \n",
       "2 -0.564478         8.790456  False             5                  CART   \n",
       "3 -0.544807        10.288021  False             7                RANDOM   \n",
       "4 -0.577805        10.704660  False             2                RANDOM   \n",
       "\n",
       "    growing_strategy  max_num_nodes use_hessian_gain  shrinkage  \\\n",
       "0  BEST_FIRST_GLOBAL           16.0            false       0.05   \n",
       "1  BEST_FIRST_GLOBAL           32.0             true       0.02   \n",
       "2              LOCAL            NaN            false       0.15   \n",
       "3              LOCAL            NaN            false       0.15   \n",
       "4  BEST_FIRST_GLOBAL           32.0             true       0.10   \n",
       "\n",
       "   num_candidate_attributes_ratio      split_axis  \\\n",
       "0                             0.9  SPARSE_OBLIQUE   \n",
       "1                             0.9  SPARSE_OBLIQUE   \n",
       "2                             0.9    AXIS_ALIGNED   \n",
       "3                             1.0    AXIS_ALIGNED   \n",
       "4                             0.2  SPARSE_OBLIQUE   \n",
       "\n",
       "  sparse_oblique_normalization sparse_oblique_weights  \\\n",
       "0                         NONE                 BINARY   \n",
       "1           STANDARD_DEVIATION             CONTINUOUS   \n",
       "2                          NaN                    NaN   \n",
       "3                          NaN                    NaN   \n",
       "4                      MIN_MAX             CONTINUOUS   \n",
       "\n",
       "   sparse_oblique_num_projections_exponent  max_depth  \n",
       "0                                      1.0        NaN  \n",
       "1                                      1.0        NaN  \n",
       "2                                      NaN        6.0  \n",
       "3                                      NaN        6.0  \n",
       "4                                      1.5        NaN  "
      ]
     },
     "execution_count": 42,
     "metadata": {},
     "output_type": "execute_result"
    }
   ],
   "source": [
    "# Display the tuning logs.\n",
    "tuning_logsD = tuned_modelD.make_inspector().tuning_logs()\n",
    "tuning_logsD.head()"
   ]
  },
  {
   "cell_type": "code",
   "execution_count": 43,
   "id": "f7a401d2",
   "metadata": {
    "execution": {
     "iopub.execute_input": "2023-12-16T19:40:56.766843Z",
     "iopub.status.busy": "2023-12-16T19:40:56.766190Z",
     "iopub.status.idle": "2023-12-16T19:40:56.775018Z",
     "shell.execute_reply": "2023-12-16T19:40:56.773989Z"
    },
    "papermill": {
     "duration": 0.029796,
     "end_time": "2023-12-16T19:40:56.777282",
     "exception": false,
     "start_time": "2023-12-16T19:40:56.747486",
     "status": "completed"
    },
    "tags": []
   },
   "outputs": [
    {
     "data": {
      "text/plain": [
       "score                                          -0.51068\n",
       "evaluation_time                                25.44505\n",
       "best                                               True\n",
       "min_examples                                          5\n",
       "categorical_algorithm                            RANDOM\n",
       "growing_strategy                                  LOCAL\n",
       "max_num_nodes                                       NaN\n",
       "use_hessian_gain                                  false\n",
       "shrinkage                                          0.05\n",
       "num_candidate_attributes_ratio                      1.0\n",
       "split_axis                                 AXIS_ALIGNED\n",
       "sparse_oblique_normalization                        NaN\n",
       "sparse_oblique_weights                              NaN\n",
       "sparse_oblique_num_projections_exponent             NaN\n",
       "max_depth                                           8.0\n",
       "Name: 9, dtype: object"
      ]
     },
     "execution_count": 43,
     "metadata": {},
     "output_type": "execute_result"
    }
   ],
   "source": [
    "# Best hyper-parameters.\n",
    "tuning_logsD[tuning_logsD.best].iloc[0]"
   ]
  },
  {
   "cell_type": "code",
   "execution_count": 44,
   "id": "8dab0599",
   "metadata": {
    "execution": {
     "iopub.execute_input": "2023-12-16T19:40:56.812872Z",
     "iopub.status.busy": "2023-12-16T19:40:56.812458Z",
     "iopub.status.idle": "2023-12-16T19:40:57.107495Z",
     "shell.execute_reply": "2023-12-16T19:40:57.106459Z"
    },
    "papermill": {
     "duration": 0.31546,
     "end_time": "2023-12-16T19:40:57.109949",
     "exception": false,
     "start_time": "2023-12-16T19:40:56.794489",
     "status": "completed"
    },
    "tags": []
   },
   "outputs": [
    {
     "data": {
      "image/png": "[encoded data removed]",
      "text/plain": [
       "<Figure size 1000x500 with 1 Axes>"
      ]
     },
     "metadata": {},
     "output_type": "display_data"
    }
   ],
   "source": [
    "plt.figure(figsize=(10, 5))\n",
    "plt.plot(tuning_logsD[\"score\"], label=\"current trial\")\n",
    "plt.plot(tuning_logsD[\"score\"].cummax(), label=\"best trial\")\n",
    "plt.xlabel(\"Tuning step\")\n",
    "plt.ylabel(\"Tuning score\")\n",
    "plt.legend()\n",
    "plt.show()"
   ]
  },
  {
   "cell_type": "code",
   "execution_count": 45,
   "id": "b1fd9517",
   "metadata": {
    "execution": {
     "iopub.execute_input": "2023-12-16T19:40:57.148083Z",
     "iopub.status.busy": "2023-12-16T19:40:57.147702Z",
     "iopub.status.idle": "2023-12-16T19:40:57.383050Z",
     "shell.execute_reply": "2023-12-16T19:40:57.381919Z"
    },
    "papermill": {
     "duration": 0.25789,
     "end_time": "2023-12-16T19:40:57.385545",
     "exception": false,
     "start_time": "2023-12-16T19:40:57.127655",
     "status": "completed"
    },
    "tags": []
   },
   "outputs": [
    {
     "name": "stdout",
     "output_type": "stream",
     "text": [
      "Test accuracy with the TF-DF hyper-parameter tuner: 0.9869\n"
     ]
    }
   ],
   "source": [
    "# Evaluate the model\n",
    "tuned_modelC.compile([\"accuracy\"])\n",
    "tuned_test_accuracyC = tuned_modelC.evaluate(tf_dataset_C_test, return_dict=True, verbose=0)[\"accuracy\"]\n",
    "print(f\"Test accuracy with the TF-DF hyper-parameter tuner: {tuned_test_accuracyC:.4f}\")"
   ]
  },
  {
   "cell_type": "code",
   "execution_count": 46,
   "id": "584645af",
   "metadata": {
    "execution": {
     "iopub.execute_input": "2023-12-16T19:40:57.422830Z",
     "iopub.status.busy": "2023-12-16T19:40:57.422439Z",
     "iopub.status.idle": "2023-12-16T19:40:57.449697Z",
     "shell.execute_reply": "2023-12-16T19:40:57.448558Z"
    },
    "papermill": {
     "duration": 0.048835,
     "end_time": "2023-12-16T19:40:57.452104",
     "exception": false,
     "start_time": "2023-12-16T19:40:57.403269",
     "status": "completed"
    },
    "tags": []
   },
   "outputs": [
    {
     "data": {
      "text/html": [
       "<div>\n",
       "<style scoped>\n",
       "    .dataframe tbody tr th:only-of-type {\n",
       "        vertical-align: middle;\n",
       "    }\n",
       "\n",
       "    .dataframe tbody tr th {\n",
       "        vertical-align: top;\n",
       "    }\n",
       "\n",
       "    .dataframe thead th {\n",
       "        text-align: right;\n",
       "    }\n",
       "</style>\n",
       "<table border=\"1\" class=\"dataframe\">\n",
       "  <thead>\n",
       "    <tr style=\"text-align: right;\">\n",
       "      <th></th>\n",
       "      <th>score</th>\n",
       "      <th>evaluation_time</th>\n",
       "      <th>best</th>\n",
       "      <th>min_examples</th>\n",
       "      <th>categorical_algorithm</th>\n",
       "      <th>growing_strategy</th>\n",
       "      <th>max_num_nodes</th>\n",
       "      <th>use_hessian_gain</th>\n",
       "      <th>shrinkage</th>\n",
       "      <th>num_candidate_attributes_ratio</th>\n",
       "      <th>split_axis</th>\n",
       "      <th>sparse_oblique_normalization</th>\n",
       "      <th>sparse_oblique_weights</th>\n",
       "      <th>sparse_oblique_num_projections_exponent</th>\n",
       "      <th>max_depth</th>\n",
       "    </tr>\n",
       "  </thead>\n",
       "  <tbody>\n",
       "    <tr>\n",
       "      <th>0</th>\n",
       "      <td>-0.473225</td>\n",
       "      <td>4.949475</td>\n",
       "      <td>False</td>\n",
       "      <td>2</td>\n",
       "      <td>RANDOM</td>\n",
       "      <td>BEST_FIRST_GLOBAL</td>\n",
       "      <td>16.0</td>\n",
       "      <td>false</td>\n",
       "      <td>0.05</td>\n",
       "      <td>0.9</td>\n",
       "      <td>SPARSE_OBLIQUE</td>\n",
       "      <td>NONE</td>\n",
       "      <td>BINARY</td>\n",
       "      <td>1.0</td>\n",
       "      <td>NaN</td>\n",
       "    </tr>\n",
       "    <tr>\n",
       "      <th>1</th>\n",
       "      <td>-0.509020</td>\n",
       "      <td>6.667835</td>\n",
       "      <td>False</td>\n",
       "      <td>5</td>\n",
       "      <td>CART</td>\n",
       "      <td>LOCAL</td>\n",
       "      <td>NaN</td>\n",
       "      <td>false</td>\n",
       "      <td>0.15</td>\n",
       "      <td>0.9</td>\n",
       "      <td>AXIS_ALIGNED</td>\n",
       "      <td>NaN</td>\n",
       "      <td>NaN</td>\n",
       "      <td>NaN</td>\n",
       "      <td>6.0</td>\n",
       "    </tr>\n",
       "    <tr>\n",
       "      <th>2</th>\n",
       "      <td>-0.487943</td>\n",
       "      <td>7.635563</td>\n",
       "      <td>False</td>\n",
       "      <td>10</td>\n",
       "      <td>CART</td>\n",
       "      <td>BEST_FIRST_GLOBAL</td>\n",
       "      <td>32.0</td>\n",
       "      <td>true</td>\n",
       "      <td>0.02</td>\n",
       "      <td>0.9</td>\n",
       "      <td>SPARSE_OBLIQUE</td>\n",
       "      <td>STANDARD_DEVIATION</td>\n",
       "      <td>CONTINUOUS</td>\n",
       "      <td>1.0</td>\n",
       "      <td>NaN</td>\n",
       "    </tr>\n",
       "    <tr>\n",
       "      <th>3</th>\n",
       "      <td>-0.491233</td>\n",
       "      <td>8.135695</td>\n",
       "      <td>False</td>\n",
       "      <td>7</td>\n",
       "      <td>RANDOM</td>\n",
       "      <td>LOCAL</td>\n",
       "      <td>NaN</td>\n",
       "      <td>false</td>\n",
       "      <td>0.15</td>\n",
       "      <td>1.0</td>\n",
       "      <td>AXIS_ALIGNED</td>\n",
       "      <td>NaN</td>\n",
       "      <td>NaN</td>\n",
       "      <td>NaN</td>\n",
       "      <td>6.0</td>\n",
       "    </tr>\n",
       "    <tr>\n",
       "      <th>4</th>\n",
       "      <td>-0.523044</td>\n",
       "      <td>8.779572</td>\n",
       "      <td>False</td>\n",
       "      <td>2</td>\n",
       "      <td>RANDOM</td>\n",
       "      <td>BEST_FIRST_GLOBAL</td>\n",
       "      <td>32.0</td>\n",
       "      <td>true</td>\n",
       "      <td>0.10</td>\n",
       "      <td>0.2</td>\n",
       "      <td>SPARSE_OBLIQUE</td>\n",
       "      <td>MIN_MAX</td>\n",
       "      <td>CONTINUOUS</td>\n",
       "      <td>1.5</td>\n",
       "      <td>NaN</td>\n",
       "    </tr>\n",
       "  </tbody>\n",
       "</table>\n",
       "</div>"
      ],
      "text/plain": [
       "      score  evaluation_time   best  min_examples categorical_algorithm  \\\n",
       "0 -0.473225         4.949475  False             2                RANDOM   \n",
       "1 -0.509020         6.667835  False             5                  CART   \n",
       "2 -0.487943         7.635563  False            10                  CART   \n",
       "3 -0.491233         8.135695  False             7                RANDOM   \n",
       "4 -0.523044         8.779572  False             2                RANDOM   \n",
       "\n",
       "    growing_strategy  max_num_nodes use_hessian_gain  shrinkage  \\\n",
       "0  BEST_FIRST_GLOBAL           16.0            false       0.05   \n",
       "1              LOCAL            NaN            false       0.15   \n",
       "2  BEST_FIRST_GLOBAL           32.0             true       0.02   \n",
       "3              LOCAL            NaN            false       0.15   \n",
       "4  BEST_FIRST_GLOBAL           32.0             true       0.10   \n",
       "\n",
       "   num_candidate_attributes_ratio      split_axis  \\\n",
       "0                             0.9  SPARSE_OBLIQUE   \n",
       "1                             0.9    AXIS_ALIGNED   \n",
       "2                             0.9  SPARSE_OBLIQUE   \n",
       "3                             1.0    AXIS_ALIGNED   \n",
       "4                             0.2  SPARSE_OBLIQUE   \n",
       "\n",
       "  sparse_oblique_normalization sparse_oblique_weights  \\\n",
       "0                         NONE                 BINARY   \n",
       "1                          NaN                    NaN   \n",
       "2           STANDARD_DEVIATION             CONTINUOUS   \n",
       "3                          NaN                    NaN   \n",
       "4                      MIN_MAX             CONTINUOUS   \n",
       "\n",
       "   sparse_oblique_num_projections_exponent  max_depth  \n",
       "0                                      1.0        NaN  \n",
       "1                                      NaN        6.0  \n",
       "2                                      1.0        NaN  \n",
       "3                                      NaN        6.0  \n",
       "4                                      1.5        NaN  "
      ]
     },
     "execution_count": 46,
     "metadata": {},
     "output_type": "execute_result"
    }
   ],
   "source": [
    "# Display the tuning logs.\n",
    "tuning_logsC = tuned_modelC.make_inspector().tuning_logs()\n",
    "tuning_logsC.head()"
   ]
  },
  {
   "cell_type": "code",
   "execution_count": 47,
   "id": "5d7f693d",
   "metadata": {
    "execution": {
     "iopub.execute_input": "2023-12-16T19:40:57.489845Z",
     "iopub.status.busy": "2023-12-16T19:40:57.489421Z",
     "iopub.status.idle": "2023-12-16T19:40:57.498320Z",
     "shell.execute_reply": "2023-12-16T19:40:57.497098Z"
    },
    "papermill": {
     "duration": 0.030562,
     "end_time": "2023-12-16T19:40:57.500668",
     "exception": false,
     "start_time": "2023-12-16T19:40:57.470106",
     "status": "completed"
    },
    "tags": []
   },
   "outputs": [
    {
     "data": {
      "text/plain": [
       "score                                              -0.443733\n",
       "evaluation_time                                   115.386056\n",
       "best                                                    True\n",
       "min_examples                                              10\n",
       "categorical_algorithm                                   CART\n",
       "growing_strategy                           BEST_FIRST_GLOBAL\n",
       "max_num_nodes                                          128.0\n",
       "use_hessian_gain                                       false\n",
       "shrinkage                                               0.15\n",
       "num_candidate_attributes_ratio                           0.2\n",
       "split_axis                                    SPARSE_OBLIQUE\n",
       "sparse_oblique_normalization                            NONE\n",
       "sparse_oblique_weights                            CONTINUOUS\n",
       "sparse_oblique_num_projections_exponent                  1.5\n",
       "max_depth                                                NaN\n",
       "Name: 45, dtype: object"
      ]
     },
     "execution_count": 47,
     "metadata": {},
     "output_type": "execute_result"
    }
   ],
   "source": [
    "# Best hyper-parameters.\n",
    "tuning_logsC[tuning_logsC.best].iloc[0]"
   ]
  },
  {
   "cell_type": "code",
   "execution_count": 48,
   "id": "ff228650",
   "metadata": {
    "execution": {
     "iopub.execute_input": "2023-12-16T19:40:57.538596Z",
     "iopub.status.busy": "2023-12-16T19:40:57.538184Z",
     "iopub.status.idle": "2023-12-16T19:40:57.818985Z",
     "shell.execute_reply": "2023-12-16T19:40:57.818091Z"
    },
    "papermill": {
     "duration": 0.302304,
     "end_time": "2023-12-16T19:40:57.821121",
     "exception": false,
     "start_time": "2023-12-16T19:40:57.518817",
     "status": "completed"
    },
    "tags": []
   },
   "outputs": [
    {
     "data": {
      "image/png": "[encoded data removed]",
      "text/plain": [
       "<Figure size 1000x500 with 1 Axes>"
      ]
     },
     "metadata": {},
     "output_type": "display_data"
    }
   ],
   "source": [
    "plt.figure(figsize=(10, 5))\n",
    "plt.plot(tuning_logsC[\"score\"], label=\"current trial\")\n",
    "plt.plot(tuning_logsC[\"score\"].cummax(), label=\"best trial\")\n",
    "plt.xlabel(\"Tuning step\")\n",
    "plt.ylabel(\"Tuning score\")\n",
    "plt.legend()\n",
    "plt.show()"
   ]
  },
  {
   "cell_type": "code",
   "execution_count": 49,
   "id": "3a993e5e",
   "metadata": {
    "execution": {
     "iopub.execute_input": "2023-12-16T19:40:57.863416Z",
     "iopub.status.busy": "2023-12-16T19:40:57.862406Z",
     "iopub.status.idle": "2023-12-16T19:40:58.130698Z",
     "shell.execute_reply": "2023-12-16T19:40:58.129795Z"
    },
    "papermill": {
     "duration": 0.291774,
     "end_time": "2023-12-16T19:40:58.133015",
     "exception": false,
     "start_time": "2023-12-16T19:40:57.841241",
     "status": "completed"
    },
    "tags": []
   },
   "outputs": [
    {
     "name": "stdout",
     "output_type": "stream",
     "text": [
      "Test accuracy with the TF-DF hyper-parameter tuner: 0.9958\n"
     ]
    }
   ],
   "source": [
    "# Evaluate the model\n",
    "tuned_modelCL.compile([\"accuracy\"])\n",
    "tuned_test_accuracyCL = tuned_modelCL.evaluate(tf_dataset_CL_test, return_dict=True, verbose=0)[\"accuracy\"]\n",
    "print(f\"Test accuracy with the TF-DF hyper-parameter tuner: {tuned_test_accuracyCL:.4f}\")"
   ]
  },
  {
   "cell_type": "code",
   "execution_count": 50,
   "id": "cc678bc3",
   "metadata": {
    "execution": {
     "iopub.execute_input": "2023-12-16T19:40:58.173531Z",
     "iopub.status.busy": "2023-12-16T19:40:58.172555Z",
     "iopub.status.idle": "2023-12-16T19:40:58.207264Z",
     "shell.execute_reply": "2023-12-16T19:40:58.206216Z"
    },
    "papermill": {
     "duration": 0.057367,
     "end_time": "2023-12-16T19:40:58.209721",
     "exception": false,
     "start_time": "2023-12-16T19:40:58.152354",
     "status": "completed"
    },
    "tags": []
   },
   "outputs": [
    {
     "data": {
      "text/html": [
       "<div>\n",
       "<style scoped>\n",
       "    .dataframe tbody tr th:only-of-type {\n",
       "        vertical-align: middle;\n",
       "    }\n",
       "\n",
       "    .dataframe tbody tr th {\n",
       "        vertical-align: top;\n",
       "    }\n",
       "\n",
       "    .dataframe thead th {\n",
       "        text-align: right;\n",
       "    }\n",
       "</style>\n",
       "<table border=\"1\" class=\"dataframe\">\n",
       "  <thead>\n",
       "    <tr style=\"text-align: right;\">\n",
       "      <th></th>\n",
       "      <th>score</th>\n",
       "      <th>evaluation_time</th>\n",
       "      <th>best</th>\n",
       "      <th>min_examples</th>\n",
       "      <th>categorical_algorithm</th>\n",
       "      <th>growing_strategy</th>\n",
       "      <th>max_num_nodes</th>\n",
       "      <th>use_hessian_gain</th>\n",
       "      <th>shrinkage</th>\n",
       "      <th>num_candidate_attributes_ratio</th>\n",
       "      <th>split_axis</th>\n",
       "      <th>sparse_oblique_normalization</th>\n",
       "      <th>sparse_oblique_weights</th>\n",
       "      <th>sparse_oblique_num_projections_exponent</th>\n",
       "      <th>max_depth</th>\n",
       "    </tr>\n",
       "  </thead>\n",
       "  <tbody>\n",
       "    <tr>\n",
       "      <th>0</th>\n",
       "      <td>-0.255751</td>\n",
       "      <td>6.742553</td>\n",
       "      <td>False</td>\n",
       "      <td>2</td>\n",
       "      <td>RANDOM</td>\n",
       "      <td>BEST_FIRST_GLOBAL</td>\n",
       "      <td>16.0</td>\n",
       "      <td>false</td>\n",
       "      <td>0.05</td>\n",
       "      <td>0.9</td>\n",
       "      <td>SPARSE_OBLIQUE</td>\n",
       "      <td>NONE</td>\n",
       "      <td>BINARY</td>\n",
       "      <td>1.0</td>\n",
       "      <td>NaN</td>\n",
       "    </tr>\n",
       "    <tr>\n",
       "      <th>1</th>\n",
       "      <td>-0.262522</td>\n",
       "      <td>7.834949</td>\n",
       "      <td>False</td>\n",
       "      <td>10</td>\n",
       "      <td>CART</td>\n",
       "      <td>BEST_FIRST_GLOBAL</td>\n",
       "      <td>32.0</td>\n",
       "      <td>true</td>\n",
       "      <td>0.02</td>\n",
       "      <td>0.9</td>\n",
       "      <td>SPARSE_OBLIQUE</td>\n",
       "      <td>STANDARD_DEVIATION</td>\n",
       "      <td>CONTINUOUS</td>\n",
       "      <td>1.0</td>\n",
       "      <td>NaN</td>\n",
       "    </tr>\n",
       "    <tr>\n",
       "      <th>2</th>\n",
       "      <td>-0.242242</td>\n",
       "      <td>9.291998</td>\n",
       "      <td>False</td>\n",
       "      <td>5</td>\n",
       "      <td>CART</td>\n",
       "      <td>LOCAL</td>\n",
       "      <td>NaN</td>\n",
       "      <td>false</td>\n",
       "      <td>0.15</td>\n",
       "      <td>0.9</td>\n",
       "      <td>AXIS_ALIGNED</td>\n",
       "      <td>NaN</td>\n",
       "      <td>NaN</td>\n",
       "      <td>NaN</td>\n",
       "      <td>6.0</td>\n",
       "    </tr>\n",
       "    <tr>\n",
       "      <th>3</th>\n",
       "      <td>-0.262389</td>\n",
       "      <td>10.065475</td>\n",
       "      <td>False</td>\n",
       "      <td>7</td>\n",
       "      <td>RANDOM</td>\n",
       "      <td>LOCAL</td>\n",
       "      <td>NaN</td>\n",
       "      <td>false</td>\n",
       "      <td>0.15</td>\n",
       "      <td>1.0</td>\n",
       "      <td>AXIS_ALIGNED</td>\n",
       "      <td>NaN</td>\n",
       "      <td>NaN</td>\n",
       "      <td>NaN</td>\n",
       "      <td>6.0</td>\n",
       "    </tr>\n",
       "    <tr>\n",
       "      <th>4</th>\n",
       "      <td>-0.264974</td>\n",
       "      <td>15.284382</td>\n",
       "      <td>False</td>\n",
       "      <td>2</td>\n",
       "      <td>RANDOM</td>\n",
       "      <td>BEST_FIRST_GLOBAL</td>\n",
       "      <td>32.0</td>\n",
       "      <td>true</td>\n",
       "      <td>0.10</td>\n",
       "      <td>0.2</td>\n",
       "      <td>SPARSE_OBLIQUE</td>\n",
       "      <td>MIN_MAX</td>\n",
       "      <td>CONTINUOUS</td>\n",
       "      <td>1.5</td>\n",
       "      <td>NaN</td>\n",
       "    </tr>\n",
       "  </tbody>\n",
       "</table>\n",
       "</div>"
      ],
      "text/plain": [
       "      score  evaluation_time   best  min_examples categorical_algorithm  \\\n",
       "0 -0.255751         6.742553  False             2                RANDOM   \n",
       "1 -0.262522         7.834949  False            10                  CART   \n",
       "2 -0.242242         9.291998  False             5                  CART   \n",
       "3 -0.262389        10.065475  False             7                RANDOM   \n",
       "4 -0.264974        15.284382  False             2                RANDOM   \n",
       "\n",
       "    growing_strategy  max_num_nodes use_hessian_gain  shrinkage  \\\n",
       "0  BEST_FIRST_GLOBAL           16.0            false       0.05   \n",
       "1  BEST_FIRST_GLOBAL           32.0             true       0.02   \n",
       "2              LOCAL            NaN            false       0.15   \n",
       "3              LOCAL            NaN            false       0.15   \n",
       "4  BEST_FIRST_GLOBAL           32.0             true       0.10   \n",
       "\n",
       "   num_candidate_attributes_ratio      split_axis  \\\n",
       "0                             0.9  SPARSE_OBLIQUE   \n",
       "1                             0.9  SPARSE_OBLIQUE   \n",
       "2                             0.9    AXIS_ALIGNED   \n",
       "3                             1.0    AXIS_ALIGNED   \n",
       "4                             0.2  SPARSE_OBLIQUE   \n",
       "\n",
       "  sparse_oblique_normalization sparse_oblique_weights  \\\n",
       "0                         NONE                 BINARY   \n",
       "1           STANDARD_DEVIATION             CONTINUOUS   \n",
       "2                          NaN                    NaN   \n",
       "3                          NaN                    NaN   \n",
       "4                      MIN_MAX             CONTINUOUS   \n",
       "\n",
       "   sparse_oblique_num_projections_exponent  max_depth  \n",
       "0                                      1.0        NaN  \n",
       "1                                      1.0        NaN  \n",
       "2                                      NaN        6.0  \n",
       "3                                      NaN        6.0  \n",
       "4                                      1.5        NaN  "
      ]
     },
     "execution_count": 50,
     "metadata": {},
     "output_type": "execute_result"
    }
   ],
   "source": [
    "# Display the tuning logs.\n",
    "tuning_logsCL = tuned_modelCL.make_inspector().tuning_logs()\n",
    "tuning_logsCL.head()"
   ]
  },
  {
   "cell_type": "code",
   "execution_count": 51,
   "id": "4204e7a7",
   "metadata": {
    "execution": {
     "iopub.execute_input": "2023-12-16T19:40:58.251392Z",
     "iopub.status.busy": "2023-12-16T19:40:58.250257Z",
     "iopub.status.idle": "2023-12-16T19:40:58.259676Z",
     "shell.execute_reply": "2023-12-16T19:40:58.258454Z"
    },
    "papermill": {
     "duration": 0.032514,
     "end_time": "2023-12-16T19:40:58.262021",
     "exception": false,
     "start_time": "2023-12-16T19:40:58.229507",
     "status": "completed"
    },
    "tags": []
   },
   "outputs": [
    {
     "data": {
      "text/plain": [
       "score                                               -0.229194\n",
       "evaluation_time                                     36.213206\n",
       "best                                                     True\n",
       "min_examples                                                5\n",
       "categorical_algorithm                                  RANDOM\n",
       "growing_strategy                                        LOCAL\n",
       "max_num_nodes                                             NaN\n",
       "use_hessian_gain                                         true\n",
       "shrinkage                                                 0.1\n",
       "num_candidate_attributes_ratio                            0.5\n",
       "split_axis                                     SPARSE_OBLIQUE\n",
       "sparse_oblique_normalization               STANDARD_DEVIATION\n",
       "sparse_oblique_weights                             CONTINUOUS\n",
       "sparse_oblique_num_projections_exponent                   1.5\n",
       "max_depth                                                 4.0\n",
       "Name: 13, dtype: object"
      ]
     },
     "execution_count": 51,
     "metadata": {},
     "output_type": "execute_result"
    }
   ],
   "source": [
    "# Best hyper-parameters.\n",
    "tuning_logsCL[tuning_logsCL.best].iloc[0]"
   ]
  },
  {
   "cell_type": "code",
   "execution_count": 52,
   "id": "516e43bc",
   "metadata": {
    "execution": {
     "iopub.execute_input": "2023-12-16T19:40:58.302973Z",
     "iopub.status.busy": "2023-12-16T19:40:58.302580Z",
     "iopub.status.idle": "2023-12-16T19:40:58.576613Z",
     "shell.execute_reply": "2023-12-16T19:40:58.575432Z"
    },
    "papermill": {
     "duration": 0.297502,
     "end_time": "2023-12-16T19:40:58.579038",
     "exception": false,
     "start_time": "2023-12-16T19:40:58.281536",
     "status": "completed"
    },
    "tags": []
   },
   "outputs": [
    {
     "data": {
      "image/png": "[encoded data removed]",
      "text/plain": [
       "<Figure size 1000x500 with 1 Axes>"
      ]
     },
     "metadata": {},
     "output_type": "display_data"
    }
   ],
   "source": [
    "plt.figure(figsize=(10, 5))\n",
    "plt.plot(tuning_logsCL[\"score\"], label=\"current trial\")\n",
    "plt.plot(tuning_logsCL[\"score\"].cummax(), label=\"best trial\")\n",
    "plt.xlabel(\"Tuning step\")\n",
    "plt.ylabel(\"Tuning score\")\n",
    "plt.legend()\n",
    "plt.show()"
   ]
  },
  {
   "cell_type": "code",
   "execution_count": null,
   "id": "16c97462",
   "metadata": {
    "papermill": {
     "duration": 0.020589,
     "end_time": "2023-12-16T19:40:58.619854",
     "exception": false,
     "start_time": "2023-12-16T19:40:58.599265",
     "status": "completed"
    },
    "tags": []
   },
   "outputs": [],
   "source": []
  },
  {
   "cell_type": "code",
   "execution_count": 53,
   "id": "3139eee2",
   "metadata": {
    "execution": {
     "iopub.execute_input": "2023-12-16T19:40:58.663222Z",
     "iopub.status.busy": "2023-12-16T19:40:58.662568Z",
     "iopub.status.idle": "2023-12-16T19:40:58.761492Z",
     "shell.execute_reply": "2023-12-16T19:40:58.760413Z"
    },
    "papermill": {
     "duration": 0.123549,
     "end_time": "2023-12-16T19:40:58.763776",
     "exception": false,
     "start_time": "2023-12-16T19:40:58.640227",
     "status": "completed"
    },
    "tags": []
   },
   "outputs": [
    {
     "data": {
      "text/html": [
       "<div>\n",
       "<style scoped>\n",
       "    .dataframe tbody tr th:only-of-type {\n",
       "        vertical-align: middle;\n",
       "    }\n",
       "\n",
       "    .dataframe tbody tr th {\n",
       "        vertical-align: top;\n",
       "    }\n",
       "\n",
       "    .dataframe thead th {\n",
       "        text-align: right;\n",
       "    }\n",
       "</style>\n",
       "<table border=\"1\" class=\"dataframe\">\n",
       "  <thead>\n",
       "    <tr style=\"text-align: right;\">\n",
       "      <th></th>\n",
       "      <th>N_Days</th>\n",
       "      <th>Drug</th>\n",
       "      <th>Age</th>\n",
       "      <th>Sex</th>\n",
       "      <th>Ascites</th>\n",
       "      <th>Hepatomegaly</th>\n",
       "      <th>Spiders</th>\n",
       "      <th>Edema</th>\n",
       "      <th>Bilirubin</th>\n",
       "      <th>Cholesterol</th>\n",
       "      <th>Albumin</th>\n",
       "      <th>Copper</th>\n",
       "      <th>Alk_Phos</th>\n",
       "      <th>SGOT</th>\n",
       "      <th>Tryglicerides</th>\n",
       "      <th>Platelets</th>\n",
       "      <th>Prothrombin</th>\n",
       "      <th>Stage</th>\n",
       "    </tr>\n",
       "  </thead>\n",
       "  <tbody>\n",
       "    <tr>\n",
       "      <th>0</th>\n",
       "      <td>3839</td>\n",
       "      <td>0.0</td>\n",
       "      <td>19724</td>\n",
       "      <td>0.0</td>\n",
       "      <td>0.0</td>\n",
       "      <td>1.0</td>\n",
       "      <td>0.0</td>\n",
       "      <td>0.0</td>\n",
       "      <td>1.2</td>\n",
       "      <td>546.0</td>\n",
       "      <td>3.37</td>\n",
       "      <td>65.0</td>\n",
       "      <td>1636.0</td>\n",
       "      <td>151.90</td>\n",
       "      <td>90.0</td>\n",
       "      <td>430.0</td>\n",
       "      <td>10.6</td>\n",
       "      <td>2.0</td>\n",
       "    </tr>\n",
       "    <tr>\n",
       "      <th>1</th>\n",
       "      <td>2468</td>\n",
       "      <td>0.0</td>\n",
       "      <td>14975</td>\n",
       "      <td>0.0</td>\n",
       "      <td>0.0</td>\n",
       "      <td>0.0</td>\n",
       "      <td>0.0</td>\n",
       "      <td>0.0</td>\n",
       "      <td>1.1</td>\n",
       "      <td>660.0</td>\n",
       "      <td>4.22</td>\n",
       "      <td>94.0</td>\n",
       "      <td>1257.0</td>\n",
       "      <td>151.90</td>\n",
       "      <td>155.0</td>\n",
       "      <td>227.0</td>\n",
       "      <td>10.0</td>\n",
       "      <td>2.0</td>\n",
       "    </tr>\n",
       "    <tr>\n",
       "      <th>2</th>\n",
       "      <td>51</td>\n",
       "      <td>1.0</td>\n",
       "      <td>13149</td>\n",
       "      <td>0.0</td>\n",
       "      <td>0.0</td>\n",
       "      <td>1.0</td>\n",
       "      <td>0.0</td>\n",
       "      <td>2.0</td>\n",
       "      <td>2.0</td>\n",
       "      <td>151.0</td>\n",
       "      <td>2.96</td>\n",
       "      <td>46.0</td>\n",
       "      <td>961.0</td>\n",
       "      <td>69.75</td>\n",
       "      <td>101.0</td>\n",
       "      <td>213.0</td>\n",
       "      <td>13.0</td>\n",
       "      <td>4.0</td>\n",
       "    </tr>\n",
       "    <tr>\n",
       "      <th>3</th>\n",
       "      <td>2330</td>\n",
       "      <td>0.0</td>\n",
       "      <td>20510</td>\n",
       "      <td>0.0</td>\n",
       "      <td>0.0</td>\n",
       "      <td>0.0</td>\n",
       "      <td>0.0</td>\n",
       "      <td>0.0</td>\n",
       "      <td>0.6</td>\n",
       "      <td>293.0</td>\n",
       "      <td>3.85</td>\n",
       "      <td>40.0</td>\n",
       "      <td>554.0</td>\n",
       "      <td>125.55</td>\n",
       "      <td>56.0</td>\n",
       "      <td>270.0</td>\n",
       "      <td>10.6</td>\n",
       "      <td>2.0</td>\n",
       "    </tr>\n",
       "    <tr>\n",
       "      <th>4</th>\n",
       "      <td>1615</td>\n",
       "      <td>0.0</td>\n",
       "      <td>21904</td>\n",
       "      <td>0.0</td>\n",
       "      <td>0.0</td>\n",
       "      <td>1.0</td>\n",
       "      <td>0.0</td>\n",
       "      <td>0.0</td>\n",
       "      <td>1.4</td>\n",
       "      <td>277.0</td>\n",
       "      <td>2.97</td>\n",
       "      <td>121.0</td>\n",
       "      <td>1110.0</td>\n",
       "      <td>125.00</td>\n",
       "      <td>126.0</td>\n",
       "      <td>221.0</td>\n",
       "      <td>9.8</td>\n",
       "      <td>1.0</td>\n",
       "    </tr>\n",
       "    <tr>\n",
       "      <th>...</th>\n",
       "      <td>...</td>\n",
       "      <td>...</td>\n",
       "      <td>...</td>\n",
       "      <td>...</td>\n",
       "      <td>...</td>\n",
       "      <td>...</td>\n",
       "      <td>...</td>\n",
       "      <td>...</td>\n",
       "      <td>...</td>\n",
       "      <td>...</td>\n",
       "      <td>...</td>\n",
       "      <td>...</td>\n",
       "      <td>...</td>\n",
       "      <td>...</td>\n",
       "      <td>...</td>\n",
       "      <td>...</td>\n",
       "      <td>...</td>\n",
       "      <td>...</td>\n",
       "    </tr>\n",
       "    <tr>\n",
       "      <th>5266</th>\n",
       "      <td>2870</td>\n",
       "      <td>1.0</td>\n",
       "      <td>12279</td>\n",
       "      <td>0.0</td>\n",
       "      <td>0.0</td>\n",
       "      <td>0.0</td>\n",
       "      <td>0.0</td>\n",
       "      <td>0.0</td>\n",
       "      <td>1.3</td>\n",
       "      <td>302.0</td>\n",
       "      <td>3.43</td>\n",
       "      <td>75.0</td>\n",
       "      <td>1345.0</td>\n",
       "      <td>145.00</td>\n",
       "      <td>44.0</td>\n",
       "      <td>181.0</td>\n",
       "      <td>10.6</td>\n",
       "      <td>3.0</td>\n",
       "    </tr>\n",
       "    <tr>\n",
       "      <th>5267</th>\n",
       "      <td>1770</td>\n",
       "      <td>1.0</td>\n",
       "      <td>24803</td>\n",
       "      <td>0.0</td>\n",
       "      <td>0.0</td>\n",
       "      <td>0.0</td>\n",
       "      <td>0.0</td>\n",
       "      <td>0.0</td>\n",
       "      <td>0.5</td>\n",
       "      <td>219.0</td>\n",
       "      <td>4.09</td>\n",
       "      <td>121.0</td>\n",
       "      <td>663.0</td>\n",
       "      <td>79.05</td>\n",
       "      <td>94.0</td>\n",
       "      <td>311.0</td>\n",
       "      <td>9.7</td>\n",
       "      <td>3.0</td>\n",
       "    </tr>\n",
       "    <tr>\n",
       "      <th>5268</th>\n",
       "      <td>3707</td>\n",
       "      <td>0.0</td>\n",
       "      <td>16990</td>\n",
       "      <td>0.0</td>\n",
       "      <td>0.0</td>\n",
       "      <td>1.0</td>\n",
       "      <td>0.0</td>\n",
       "      <td>0.0</td>\n",
       "      <td>0.8</td>\n",
       "      <td>315.0</td>\n",
       "      <td>4.09</td>\n",
       "      <td>13.0</td>\n",
       "      <td>1637.0</td>\n",
       "      <td>170.50</td>\n",
       "      <td>70.0</td>\n",
       "      <td>426.0</td>\n",
       "      <td>10.9</td>\n",
       "      <td>3.0</td>\n",
       "    </tr>\n",
       "    <tr>\n",
       "      <th>5269</th>\n",
       "      <td>1216</td>\n",
       "      <td>1.0</td>\n",
       "      <td>11773</td>\n",
       "      <td>0.0</td>\n",
       "      <td>0.0</td>\n",
       "      <td>0.0</td>\n",
       "      <td>0.0</td>\n",
       "      <td>0.0</td>\n",
       "      <td>0.7</td>\n",
       "      <td>329.0</td>\n",
       "      <td>3.80</td>\n",
       "      <td>52.0</td>\n",
       "      <td>678.0</td>\n",
       "      <td>57.00</td>\n",
       "      <td>126.0</td>\n",
       "      <td>306.0</td>\n",
       "      <td>10.2</td>\n",
       "      <td>1.0</td>\n",
       "    </tr>\n",
       "    <tr>\n",
       "      <th>5270</th>\n",
       "      <td>2272</td>\n",
       "      <td>0.0</td>\n",
       "      <td>21600</td>\n",
       "      <td>0.0</td>\n",
       "      <td>0.0</td>\n",
       "      <td>0.0</td>\n",
       "      <td>0.0</td>\n",
       "      <td>0.0</td>\n",
       "      <td>2.0</td>\n",
       "      <td>232.0</td>\n",
       "      <td>3.42</td>\n",
       "      <td>18.0</td>\n",
       "      <td>1636.0</td>\n",
       "      <td>170.50</td>\n",
       "      <td>83.0</td>\n",
       "      <td>213.0</td>\n",
       "      <td>13.6</td>\n",
       "      <td>2.0</td>\n",
       "    </tr>\n",
       "  </tbody>\n",
       "</table>\n",
       "<p>5271 rows × 18 columns</p>\n",
       "</div>"
      ],
      "text/plain": [
       "      N_Days  Drug    Age  Sex  Ascites  Hepatomegaly  Spiders  Edema  \\\n",
       "0       3839   0.0  19724  0.0      0.0           1.0      0.0    0.0   \n",
       "1       2468   0.0  14975  0.0      0.0           0.0      0.0    0.0   \n",
       "2         51   1.0  13149  0.0      0.0           1.0      0.0    2.0   \n",
       "3       2330   0.0  20510  0.0      0.0           0.0      0.0    0.0   \n",
       "4       1615   0.0  21904  0.0      0.0           1.0      0.0    0.0   \n",
       "...      ...   ...    ...  ...      ...           ...      ...    ...   \n",
       "5266    2870   1.0  12279  0.0      0.0           0.0      0.0    0.0   \n",
       "5267    1770   1.0  24803  0.0      0.0           0.0      0.0    0.0   \n",
       "5268    3707   0.0  16990  0.0      0.0           1.0      0.0    0.0   \n",
       "5269    1216   1.0  11773  0.0      0.0           0.0      0.0    0.0   \n",
       "5270    2272   0.0  21600  0.0      0.0           0.0      0.0    0.0   \n",
       "\n",
       "      Bilirubin  Cholesterol  Albumin  Copper  Alk_Phos    SGOT  \\\n",
       "0           1.2        546.0     3.37    65.0    1636.0  151.90   \n",
       "1           1.1        660.0     4.22    94.0    1257.0  151.90   \n",
       "2           2.0        151.0     2.96    46.0     961.0   69.75   \n",
       "3           0.6        293.0     3.85    40.0     554.0  125.55   \n",
       "4           1.4        277.0     2.97   121.0    1110.0  125.00   \n",
       "...         ...          ...      ...     ...       ...     ...   \n",
       "5266        1.3        302.0     3.43    75.0    1345.0  145.00   \n",
       "5267        0.5        219.0     4.09   121.0     663.0   79.05   \n",
       "5268        0.8        315.0     4.09    13.0    1637.0  170.50   \n",
       "5269        0.7        329.0     3.80    52.0     678.0   57.00   \n",
       "5270        2.0        232.0     3.42    18.0    1636.0  170.50   \n",
       "\n",
       "      Tryglicerides  Platelets  Prothrombin  Stage  \n",
       "0              90.0      430.0         10.6    2.0  \n",
       "1             155.0      227.0         10.0    2.0  \n",
       "2             101.0      213.0         13.0    4.0  \n",
       "3              56.0      270.0         10.6    2.0  \n",
       "4             126.0      221.0          9.8    1.0  \n",
       "...             ...        ...          ...    ...  \n",
       "5266           44.0      181.0         10.6    3.0  \n",
       "5267           94.0      311.0          9.7    3.0  \n",
       "5268           70.0      426.0         10.9    3.0  \n",
       "5269          126.0      306.0         10.2    1.0  \n",
       "5270           83.0      213.0         13.6    2.0  \n",
       "\n",
       "[5271 rows x 18 columns]"
      ]
     },
     "execution_count": 53,
     "metadata": {},
     "output_type": "execute_result"
    }
   ],
   "source": [
    "test_data = pd.read_csv('/kaggle/input/playground-series-s3e26/test.csv')\n",
    "test_data[objectCols] = encoder.transform(test_data[objectCols])\n",
    "ID = test_data['id']\n",
    "test_data.drop('id',axis = 1)"
   ]
  },
  {
   "cell_type": "code",
   "execution_count": 54,
   "id": "780f8c51",
   "metadata": {
    "execution": {
     "iopub.execute_input": "2023-12-16T19:40:58.806855Z",
     "iopub.status.busy": "2023-12-16T19:40:58.806455Z",
     "iopub.status.idle": "2023-12-16T19:40:58.844781Z",
     "shell.execute_reply": "2023-12-16T19:40:58.843945Z"
    },
    "papermill": {
     "duration": 0.062702,
     "end_time": "2023-12-16T19:40:58.847133",
     "exception": false,
     "start_time": "2023-12-16T19:40:58.784431",
     "status": "completed"
    },
    "tags": []
   },
   "outputs": [],
   "source": [
    "tf_test_data = tfdf.keras.pd_dataframe_to_tf_dataset(test_data)"
   ]
  },
  {
   "cell_type": "code",
   "execution_count": 55,
   "id": "c1443792",
   "metadata": {
    "execution": {
     "iopub.execute_input": "2023-12-16T19:40:58.891090Z",
     "iopub.status.busy": "2023-12-16T19:40:58.890075Z",
     "iopub.status.idle": "2023-12-16T19:40:59.195847Z",
     "shell.execute_reply": "2023-12-16T19:40:59.194884Z"
    },
    "papermill": {
     "duration": 0.330398,
     "end_time": "2023-12-16T19:40:59.198360",
     "exception": false,
     "start_time": "2023-12-16T19:40:58.867962",
     "status": "completed"
    },
    "tags": []
   },
   "outputs": [
    {
     "name": "stdout",
     "output_type": "stream",
     "text": [
      "6/6 [==============================] - 0s 12ms/step\n"
     ]
    }
   ],
   "source": [
    "predD = tuned_modelD.predict(tf_test_data)"
   ]
  },
  {
   "cell_type": "code",
   "execution_count": 56,
   "id": "ed491a3d",
   "metadata": {
    "execution": {
     "iopub.execute_input": "2023-12-16T19:40:59.243378Z",
     "iopub.status.busy": "2023-12-16T19:40:59.242338Z",
     "iopub.status.idle": "2023-12-16T19:40:59.535026Z",
     "shell.execute_reply": "2023-12-16T19:40:59.533938Z"
    },
    "papermill": {
     "duration": 0.317663,
     "end_time": "2023-12-16T19:40:59.537687",
     "exception": false,
     "start_time": "2023-12-16T19:40:59.220024",
     "status": "completed"
    },
    "tags": []
   },
   "outputs": [
    {
     "name": "stdout",
     "output_type": "stream",
     "text": [
      "6/6 [==============================] - 0s 13ms/step\n"
     ]
    }
   ],
   "source": [
    "predC = tuned_modelC.predict(tf_test_data)"
   ]
  },
  {
   "cell_type": "code",
   "execution_count": 57,
   "id": "c8baa9d9",
   "metadata": {
    "execution": {
     "iopub.execute_input": "2023-12-16T19:40:59.582631Z",
     "iopub.status.busy": "2023-12-16T19:40:59.582222Z",
     "iopub.status.idle": "2023-12-16T19:40:59.926738Z",
     "shell.execute_reply": "2023-12-16T19:40:59.925663Z"
    },
    "papermill": {
     "duration": 0.36998,
     "end_time": "2023-12-16T19:40:59.929297",
     "exception": false,
     "start_time": "2023-12-16T19:40:59.559317",
     "status": "completed"
    },
    "tags": []
   },
   "outputs": [
    {
     "name": "stdout",
     "output_type": "stream",
     "text": [
      "6/6 [==============================] - 0s 19ms/step\n"
     ]
    }
   ],
   "source": [
    "predCL = tuned_modelCL.predict(tf_test_data)"
   ]
  },
  {
   "cell_type": "code",
   "execution_count": 58,
   "id": "0c79cb28",
   "metadata": {
    "execution": {
     "iopub.execute_input": "2023-12-16T19:40:59.975826Z",
     "iopub.status.busy": "2023-12-16T19:40:59.975070Z",
     "iopub.status.idle": "2023-12-16T19:40:59.979992Z",
     "shell.execute_reply": "2023-12-16T19:40:59.978930Z"
    },
    "papermill": {
     "duration": 0.030236,
     "end_time": "2023-12-16T19:40:59.982309",
     "exception": false,
     "start_time": "2023-12-16T19:40:59.952073",
     "status": "completed"
    },
    "tags": []
   },
   "outputs": [],
   "source": [
    "submission = pd.DataFrame({'id':ID})"
   ]
  },
  {
   "cell_type": "code",
   "execution_count": 59,
   "id": "be18759f",
   "metadata": {
    "execution": {
     "iopub.execute_input": "2023-12-16T19:41:00.026742Z",
     "iopub.status.busy": "2023-12-16T19:41:00.026311Z",
     "iopub.status.idle": "2023-12-16T19:41:00.031522Z",
     "shell.execute_reply": "2023-12-16T19:41:00.030431Z"
    },
    "papermill": {
     "duration": 0.029954,
     "end_time": "2023-12-16T19:41:00.033652",
     "exception": false,
     "start_time": "2023-12-16T19:41:00.003698",
     "status": "completed"
    },
    "tags": []
   },
   "outputs": [],
   "source": [
    "submission['Status_D'] = predD"
   ]
  },
  {
   "cell_type": "code",
   "execution_count": 60,
   "id": "3b60dbfb",
   "metadata": {
    "execution": {
     "iopub.execute_input": "2023-12-16T19:41:00.078416Z",
     "iopub.status.busy": "2023-12-16T19:41:00.077975Z",
     "iopub.status.idle": "2023-12-16T19:41:00.083147Z",
     "shell.execute_reply": "2023-12-16T19:41:00.082044Z"
    },
    "papermill": {
     "duration": 0.030436,
     "end_time": "2023-12-16T19:41:00.085334",
     "exception": false,
     "start_time": "2023-12-16T19:41:00.054898",
     "status": "completed"
    },
    "tags": []
   },
   "outputs": [],
   "source": [
    "submission['Status_C'] = predC"
   ]
  },
  {
   "cell_type": "code",
   "execution_count": 61,
   "id": "4d6e6714",
   "metadata": {
    "execution": {
     "iopub.execute_input": "2023-12-16T19:41:00.130088Z",
     "iopub.status.busy": "2023-12-16T19:41:00.129655Z",
     "iopub.status.idle": "2023-12-16T19:41:00.135347Z",
     "shell.execute_reply": "2023-12-16T19:41:00.134234Z"
    },
    "papermill": {
     "duration": 0.030874,
     "end_time": "2023-12-16T19:41:00.137821",
     "exception": false,
     "start_time": "2023-12-16T19:41:00.106947",
     "status": "completed"
    },
    "tags": []
   },
   "outputs": [],
   "source": [
    "submission['Status_CL'] = predCL"
   ]
  },
  {
   "cell_type": "code",
   "execution_count": 62,
   "id": "692805c9",
   "metadata": {
    "execution": {
     "iopub.execute_input": "2023-12-16T19:41:00.183150Z",
     "iopub.status.busy": "2023-12-16T19:41:00.182338Z",
     "iopub.status.idle": "2023-12-16T19:41:00.213002Z",
     "shell.execute_reply": "2023-12-16T19:41:00.211889Z"
    },
    "papermill": {
     "duration": 0.056208,
     "end_time": "2023-12-16T19:41:00.215669",
     "exception": false,
     "start_time": "2023-12-16T19:41:00.159461",
     "status": "completed"
    },
    "tags": []
   },
   "outputs": [],
   "source": [
    "submission.to_csv(\"submission.csv\",index = False)"
   ]
  },
  {
   "cell_type": "code",
   "execution_count": null,
   "id": "debd937d",
   "metadata": {
    "papermill": {
     "duration": 0.021353,
     "end_time": "2023-12-16T19:41:00.258671",
     "exception": false,
     "start_time": "2023-12-16T19:41:00.237318",
     "status": "completed"
    },
    "tags": []
   },
   "outputs": [],
   "source": []
  }
 ],
 "metadata": {
  "kaggle": {
   "accelerator": "none",
   "dataSources": [
    {
     "databundleVersionId": 7000181,
     "sourceId": 60893,
     "sourceType": "competition"
    },
    {
     "datasetId": 3873965,
     "sourceId": 6724823,
     "sourceType": "datasetVersion"
    }
   ],
   "dockerImageVersionId": 30587,
   "isGpuEnabled": false,
   "isInternetEnabled": false,
   "language": "python",
   "sourceType": "notebook"
  },
  "kernelspec": {
   "display_name": "Python 3",
   "language": "python",
   "name": "python3"
  },
  "language_info": {
   "codemirror_mode": {
    "name": "ipython",
    "version": 3
   },
   "file_extension": ".py",
   "mimetype": "text/x-python",
   "name": "python",
   "nbconvert_exporter": "python",
   "pygments_lexer": "ipython3",
   "version": "3.10.12"
  },
  "papermill": {
   "default_parameters": {},
   "duration": 459.588277,
   "end_time": "2023-12-16T19:41:02.676079",
   "environment_variables": {},
   "exception": null,
   "input_path": "__notebook__.ipynb",
   "output_path": "__notebook__.ipynb",
   "parameters": {},
   "start_time": "2023-12-16T19:33:23.087802",
   "version": "2.4.0"
  }
 },
 "nbformat": 4,
 "nbformat_minor": 5
}
